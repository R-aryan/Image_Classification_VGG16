{
  "nbformat": 4,
  "nbformat_minor": 0,
  "metadata": {
    "colab": {
      "name": "Classification_Cat_VS_Dogs.ipynb",
      "provenance": [],
      "collapsed_sections": [],
      "toc_visible": true,
      "mount_file_id": "1I5vGSStpKZmLZKXFd3WydpAOd4MExlDQ",
      "authorship_tag": "ABX9TyOwrvXcTFTp8etCEdcgKEh7",
      "include_colab_link": true
    },
    "kernelspec": {
      "name": "python3",
      "display_name": "Python 3"
    },
    "accelerator": "GPU"
  },
  "cells": [
    {
      "cell_type": "markdown",
      "metadata": {
        "id": "view-in-github",
        "colab_type": "text"
      },
      "source": [
        "<a href=\"https://colab.research.google.com/github/R-aryan/Image_Classification_VGG16/blob/master/Classification_Cat_VS_Dogs.ipynb\" target=\"_parent\"><img src=\"https://colab.research.google.com/assets/colab-badge.svg\" alt=\"Open In Colab\"/></a>"
      ]
    },
    {
      "cell_type": "code",
      "metadata": {
        "id": "FCnjNNVqSQ9U",
        "colab_type": "code",
        "colab": {}
      },
      "source": [
        "#!unzip '/content/drive/My Drive/classification_Dataset/cat_VS_dogs/test1.zip' -d '/content/drive/My Drive/classification_Dataset/cat_VS_dogs'"
      ],
      "execution_count": 0,
      "outputs": []
    },
    {
      "cell_type": "code",
      "metadata": {
        "id": "eoDT5Fl0TVhK",
        "colab_type": "code",
        "colab": {}
      },
      "source": [
        "import keras,os\n",
        "from keras.models import Sequential\n",
        "from keras.layers import Dense, Conv2D, MaxPool2D , Flatten\n",
        "from keras.preprocessing.image import ImageDataGenerator\n",
        "import numpy as np"
      ],
      "execution_count": 0,
      "outputs": []
    },
    {
      "cell_type": "code",
      "metadata": {
        "id": "NJ2TQ9tcVU97",
        "colab_type": "code",
        "colab": {}
      },
      "source": [
        "train_directory= \"/content/drive/My Drive/classification_Dataset/cat_VS_dogs/train\"\n",
        "test_directory=\"/content/drive/My Drive/classification_Dataset/cat_VS_dogs/test1\""
      ],
      "execution_count": 0,
      "outputs": []
    },
    {
      "cell_type": "code",
      "metadata": {
        "id": "iTz7UdVh-A3K",
        "colab_type": "code",
        "colab": {}
      },
      "source": [
        "import shutil\n",
        "import os\n",
        "from os import listdir\n",
        "from os.path import splitext"
      ],
      "execution_count": 0,
      "outputs": []
    },
    {
      "cell_type": "code",
      "metadata": {
        "id": "vRaFd2ljC6gL",
        "colab_type": "code",
        "colab": {}
      },
      "source": [
        "src= '/content/drive/My Drive/classification_Dataset/cat_VS_dogs/train'\n",
        "dest_d='/content/drive/My Drive/classification_Dataset/cat_VS_dogs/train/Dogs'\n",
        "dest_c='/content/drive/My Drive/classification_Dataset/cat_VS_dogs/train/Cats'\n",
        "validation_set='/content/drive/My Drive/classification_Dataset/cat_VS_dogs/validation_data'"
      ],
      "execution_count": 0,
      "outputs": []
    },
    {
      "cell_type": "code",
      "metadata": {
        "id": "VerTxgvBD6Ax",
        "colab_type": "code",
        "outputId": "47f54d87-b7bc-4dd7-9516-061385371439",
        "colab": {
          "base_uri": "https://localhost:8080/",
          "height": 35
        }
      },
      "source": [
        "c=1\n",
        "for file in listdir(dest_d):\n",
        "    filename = file[:3]\n",
        "    f1=filename.lower()\n",
        "    print(filename)\n",
        "    c+=1\n",
        "    \n",
        "    try:\n",
        "      if(filename=='cat'):\n",
        "        shutil.move(os.path.join(src,file), dest_c)\n",
        "        print(\"cat moved succesfully\")\n",
        "      else:\n",
        "        shutil.move(os.path.join(src,file),dest_d)\n",
        "        print(\"dog moved successfully\")\n",
        "\n",
        "    except:\n",
        "      print(\"error occured at \"+ file)\n",
        "\n",
        "    if(c==10):\n",
        "      break\n",
        "\n",
        "print(c)"
      ],
      "execution_count": 15,
      "outputs": [
        {
          "output_type": "stream",
          "text": [
            "7997\n"
          ],
          "name": "stdout"
        }
      ]
    },
    {
      "cell_type": "code",
      "metadata": {
        "id": "b5mJNIzVEGvz",
        "colab_type": "code",
        "colab": {
          "base_uri": "https://localhost:8080/",
          "height": 35
        },
        "outputId": "34347b6f-3572-45f6-9724-7a379af20f85"
      },
      "source": [
        "trdata = ImageDataGenerator()\n",
        "traindata = trdata.flow_from_directory(directory=src,target_size=(224,224),batch_size=32)"
      ],
      "execution_count": 38,
      "outputs": [
        {
          "output_type": "stream",
          "text": [
            "Found 20438 images belonging to 2 classes.\n"
          ],
          "name": "stdout"
        }
      ]
    },
    {
      "cell_type": "code",
      "metadata": {
        "id": "WpuX2scNg-nf",
        "colab_type": "code",
        "colab": {
          "base_uri": "https://localhost:8080/",
          "height": 35
        },
        "outputId": "ac877867-c178-4863-ddf4-348123fd06f2"
      },
      "source": [
        "tsdata = ImageDataGenerator()\n",
        "testdata = tsdata.flow_from_directory(directory=validation_set, target_size=(224,224),batch_size=32)"
      ],
      "execution_count": 39,
      "outputs": [
        {
          "output_type": "stream",
          "text": [
            "Found 98 images belonging to 2 classes.\n"
          ],
          "name": "stdout"
        }
      ]
    },
    {
      "cell_type": "markdown",
      "metadata": {
        "id": "VIDHFUDbmCrN",
        "colab_type": "text"
      },
      "source": [
        "Building the Model - VGG16 From Scratch"
      ]
    },
    {
      "cell_type": "code",
      "metadata": {
        "id": "cam8SB2AmKKs",
        "colab_type": "code",
        "colab": {}
      },
      "source": [
        "model = Sequential()"
      ],
      "execution_count": 0,
      "outputs": []
    },
    {
      "cell_type": "code",
      "metadata": {
        "id": "meorqFm-mKzG",
        "colab_type": "code",
        "colab": {}
      },
      "source": [
        "model.add(Conv2D(input_shape=(224,224,3),filters=64,kernel_size=(3,3),padding=\"same\", activation=\"relu\"))\n",
        "\n",
        "model.add(Conv2D(filters=64,kernel_size=(3,3),padding=\"same\", activation=\"relu\"))\n",
        "\n",
        "model.add(MaxPool2D(pool_size=(2,2),strides=(2,2)))\n",
        "\n",
        "\n",
        "model.add(Conv2D(filters=128, kernel_size=(3,3), padding=\"same\", activation=\"relu\"))\n",
        "\n",
        "model.add(Conv2D(filters=128, kernel_size=(3,3), padding=\"same\", activation=\"relu\"))\n",
        "\n",
        "model.add(MaxPool2D(pool_size=(2,2),strides=(2,2)))\n",
        "\n",
        "\n",
        "model.add(Conv2D(filters=256, kernel_size=(3,3), padding=\"same\", activation=\"relu\"))\n",
        "\n",
        "model.add(Conv2D(filters=256, kernel_size=(3,3), padding=\"same\", activation=\"relu\"))\n",
        "\n",
        "model.add(Conv2D(filters=256, kernel_size=(3,3), padding=\"same\", activation=\"relu\"))\n",
        "\n",
        "model.add(MaxPool2D(pool_size=(2,2),strides=(2,2)))\n",
        "\n",
        "\n",
        "model.add(Conv2D(filters=512, kernel_size=(3,3), padding=\"same\", activation=\"relu\"))\n",
        "\n",
        "model.add(Conv2D(filters=512, kernel_size=(3,3), padding=\"same\", activation=\"relu\"))\n",
        "\n",
        "model.add(Conv2D(filters=512, kernel_size=(3,3), padding=\"same\", activation=\"relu\"))\n",
        "\n",
        "model.add(MaxPool2D(pool_size=(2,2),strides=(2,2)))\n",
        "\n",
        "\n",
        "model.add(Conv2D(filters=512, kernel_size=(3,3), padding=\"same\", activation=\"relu\"))\n",
        "\n",
        "model.add(Conv2D(filters=512, kernel_size=(3,3), padding=\"same\", activation=\"relu\"))\n",
        "\n",
        "model.add(Conv2D(filters=512, kernel_size=(3,3), padding=\"same\", activation=\"relu\"))\n",
        "\n",
        "model.add(MaxPool2D(pool_size=(2,2),strides=(2,2)))"
      ],
      "execution_count": 0,
      "outputs": []
    },
    {
      "cell_type": "markdown",
      "metadata": {
        "id": "7fPF_ilzoCM6",
        "colab_type": "text"
      },
      "source": [
        "Here I have started with initialising the model by specifying that the model is a sequential model. After initialising the model I add\n",
        "\n",
        "→ 2 x convolution layer of 64 channel of 3x3 kernal and same padding\n",
        "\n",
        "→ 1 x maxpool layer of 2x2 pool size and stride 2x2\n",
        "\n",
        "→ 2 x convolution layer of 128 channel of 3x3 kernal and same padding\n",
        "\n",
        "→ 1 x maxpool layer of 2x2 pool size and stride 2x2\n",
        "\n",
        "→ 3 x convolution layer of 256 channel of 3x3 kernal \n",
        "and same padding\n",
        "\n",
        "→ 1 x maxpool layer of 2x2 pool size and stride 2x2\n",
        "\n",
        "→ 3 x convolution layer of 512 channel of 3x3 kernal and same padding\n",
        "\n",
        "→ 1 x maxpool layer of 2x2 pool size and stride 2x2\n",
        "→ 3 x convolution layer of 512 channel of 3x3 kernal and same padding\n",
        "\n",
        "→ 1 x maxpool layer of 2x2 pool size and stride 2x2\n",
        "\n",
        "I also add relu(Rectified Linear Unit) activation to each layers so that all the negative values are not passed to the next layer."
      ]
    },
    {
      "cell_type": "code",
      "metadata": {
        "id": "K1CjNIiDoL9C",
        "colab_type": "code",
        "colab": {}
      },
      "source": [
        "model.add(Flatten())\n",
        "\n",
        "model.add(Dense(units=4096,activation=\"relu\"))\n",
        "\n",
        "model.add(Dense(units=4096,activation=\"relu\"))\n",
        "\n",
        "model.add(Dense(units=2, activation=\"softmax\"))"
      ],
      "execution_count": 0,
      "outputs": []
    },
    {
      "cell_type": "code",
      "metadata": {
        "id": "N9LzqZJLfEhR",
        "colab_type": "code",
        "colab": {}
      },
      "source": [
        ""
      ],
      "execution_count": 0,
      "outputs": []
    },
    {
      "cell_type": "markdown",
      "metadata": {
        "id": "9Y9XBryvfcP4",
        "colab_type": "text"
      },
      "source": [
        "After creating all the convolution I pass the data to the dense layer so for that I flatten the vector which comes out of the convolutions and add\n",
        "\n",
        "→ 1 x Dense layer of 4096 units\n",
        "\n",
        "→ 1 x Dense layer of 4096 units\n",
        "\n",
        "→ 1 x Dense Softmax layer of 2 units\n",
        "\n"
      ]
    },
    {
      "cell_type": "code",
      "metadata": {
        "id": "2vZvFhusfgOo",
        "colab_type": "code",
        "colab": {}
      },
      "source": [
        "from keras.optimizers import Adam\n",
        "\n",
        "opt = Adam(lr=0.001)\n",
        "\n",
        "model.compile(optimizer=opt, loss=keras.losses.categorical_crossentropy, metrics=['accuracy'])\n"
      ],
      "execution_count": 0,
      "outputs": []
    },
    {
      "cell_type": "code",
      "metadata": {
        "id": "zaOX10SdfpkT",
        "colab_type": "code",
        "colab": {
          "base_uri": "https://localhost:8080/",
          "height": 919
        },
        "outputId": "9a484a24-434f-45a8-f7b6-be8f66b70424"
      },
      "source": [
        "model.summary()"
      ],
      "execution_count": 44,
      "outputs": [
        {
          "output_type": "stream",
          "text": [
            "Model: \"sequential_6\"\n",
            "_________________________________________________________________\n",
            "Layer (type)                 Output Shape              Param #   \n",
            "=================================================================\n",
            "conv2d_66 (Conv2D)           (None, 224, 224, 64)      1792      \n",
            "_________________________________________________________________\n",
            "conv2d_67 (Conv2D)           (None, 224, 224, 64)      36928     \n",
            "_________________________________________________________________\n",
            "max_pooling2d_26 (MaxPooling (None, 112, 112, 64)      0         \n",
            "_________________________________________________________________\n",
            "conv2d_68 (Conv2D)           (None, 112, 112, 128)     73856     \n",
            "_________________________________________________________________\n",
            "conv2d_69 (Conv2D)           (None, 112, 112, 128)     147584    \n",
            "_________________________________________________________________\n",
            "max_pooling2d_27 (MaxPooling (None, 56, 56, 128)       0         \n",
            "_________________________________________________________________\n",
            "conv2d_70 (Conv2D)           (None, 56, 56, 256)       295168    \n",
            "_________________________________________________________________\n",
            "conv2d_71 (Conv2D)           (None, 56, 56, 256)       590080    \n",
            "_________________________________________________________________\n",
            "conv2d_72 (Conv2D)           (None, 56, 56, 256)       590080    \n",
            "_________________________________________________________________\n",
            "max_pooling2d_28 (MaxPooling (None, 28, 28, 256)       0         \n",
            "_________________________________________________________________\n",
            "conv2d_73 (Conv2D)           (None, 28, 28, 512)       1180160   \n",
            "_________________________________________________________________\n",
            "conv2d_74 (Conv2D)           (None, 28, 28, 512)       2359808   \n",
            "_________________________________________________________________\n",
            "conv2d_75 (Conv2D)           (None, 28, 28, 512)       2359808   \n",
            "_________________________________________________________________\n",
            "max_pooling2d_29 (MaxPooling (None, 14, 14, 512)       0         \n",
            "_________________________________________________________________\n",
            "conv2d_76 (Conv2D)           (None, 14, 14, 512)       2359808   \n",
            "_________________________________________________________________\n",
            "conv2d_77 (Conv2D)           (None, 14, 14, 512)       2359808   \n",
            "_________________________________________________________________\n",
            "conv2d_78 (Conv2D)           (None, 14, 14, 512)       2359808   \n",
            "_________________________________________________________________\n",
            "max_pooling2d_30 (MaxPooling (None, 7, 7, 512)         0         \n",
            "_________________________________________________________________\n",
            "flatten_6 (Flatten)          (None, 25088)             0         \n",
            "_________________________________________________________________\n",
            "dense_13 (Dense)             (None, 4096)              102764544 \n",
            "_________________________________________________________________\n",
            "dense_14 (Dense)             (None, 4096)              16781312  \n",
            "_________________________________________________________________\n",
            "dense_15 (Dense)             (None, 2)                 8194      \n",
            "=================================================================\n",
            "Total params: 134,268,738\n",
            "Trainable params: 134,268,738\n",
            "Non-trainable params: 0\n",
            "_________________________________________________________________\n"
          ],
          "name": "stdout"
        }
      ]
    },
    {
      "cell_type": "code",
      "metadata": {
        "id": "a7FMYOzqfslo",
        "colab_type": "code",
        "colab": {
          "base_uri": "https://localhost:8080/",
          "height": 1000
        },
        "outputId": "c183f9f3-0b8a-44b5-8c34-44e8f039c30d"
      },
      "source": [
        "from keras.callbacks import ModelCheckpoint, EarlyStopping\n",
        "\n",
        "checkpoint = ModelCheckpoint(\"/content/drive/My Drive/classification_Dataset/vgg16_1.h5\", monitor='val_acc', verbose=1, save_best_only=True, save_weights_only=False, mode='auto', period=1)\n",
        "\n",
        "early = EarlyStopping(monitor='val_acc', min_delta=0, patience=20, verbose=1, mode='auto')\n",
        "\n",
        "hist = model.fit_generator(steps_per_epoch=200,generator=traindata, validation_data= testdata, validation_steps=80,epochs=100,callbacks=[checkpoint,early])"
      ],
      "execution_count": 48,
      "outputs": [
        {
          "output_type": "stream",
          "text": [
            "Epoch 1/100\n",
            "200/200 [==============================] - 63s 315ms/step - loss: 6.1828 - acc: 0.6164 - val_loss: 8.0590 - val_acc: 0.5000\n",
            "\n",
            "Epoch 00001: val_acc improved from -inf to 0.50000, saving model to /content/drive/My Drive/classification_Dataset/vgg16_1.h5\n",
            "Epoch 2/100\n",
            "200/200 [==============================] - 63s 314ms/step - loss: 6.3994 - acc: 0.6030 - val_loss: 8.0590 - val_acc: 0.5000\n",
            "\n",
            "Epoch 00002: val_acc did not improve from 0.50000\n",
            "Epoch 3/100\n",
            "200/200 [==============================] - 63s 314ms/step - loss: 6.3456 - acc: 0.6063 - val_loss: 8.0590 - val_acc: 0.5000\n",
            "\n",
            "Epoch 00003: val_acc did not improve from 0.50000\n",
            "Epoch 4/100\n",
            "200/200 [==============================] - 63s 314ms/step - loss: 6.3264 - acc: 0.6075 - val_loss: 8.0590 - val_acc: 0.5000\n",
            "\n",
            "Epoch 00004: val_acc did not improve from 0.50000\n",
            "Epoch 5/100\n",
            "200/200 [==============================] - 63s 314ms/step - loss: 6.1677 - acc: 0.6173 - val_loss: 8.0590 - val_acc: 0.5000\n",
            "\n",
            "Epoch 00005: val_acc did not improve from 0.50000\n",
            "Epoch 6/100\n",
            "200/200 [==============================] - 63s 314ms/step - loss: 6.4479 - acc: 0.6000 - val_loss: 8.0590 - val_acc: 0.5000\n",
            "\n",
            "Epoch 00006: val_acc did not improve from 0.50000\n",
            "Epoch 7/100\n",
            "200/200 [==============================] - 63s 315ms/step - loss: 6.2055 - acc: 0.6150 - val_loss: 8.0590 - val_acc: 0.5000\n",
            "\n",
            "Epoch 00007: val_acc did not improve from 0.50000\n",
            "Epoch 8/100\n",
            "200/200 [==============================] - 63s 314ms/step - loss: 6.3616 - acc: 0.6053 - val_loss: 8.0590 - val_acc: 0.5000\n",
            "\n",
            "Epoch 00008: val_acc did not improve from 0.50000\n",
            "Epoch 9/100\n",
            "200/200 [==============================] - 63s 314ms/step - loss: 6.2980 - acc: 0.6093 - val_loss: 8.0590 - val_acc: 0.5000\n",
            "\n",
            "Epoch 00009: val_acc did not improve from 0.50000\n",
            "Epoch 10/100\n",
            "200/200 [==============================] - 63s 314ms/step - loss: 6.3062 - acc: 0.6088 - val_loss: 8.0590 - val_acc: 0.5000\n",
            "\n",
            "Epoch 00010: val_acc did not improve from 0.50000\n",
            "Epoch 11/100\n",
            "200/200 [==============================] - 63s 314ms/step - loss: 6.2281 - acc: 0.6136 - val_loss: 8.0590 - val_acc: 0.5000\n",
            "\n",
            "Epoch 00011: val_acc did not improve from 0.50000\n",
            "Epoch 12/100\n",
            "200/200 [==============================] - 63s 314ms/step - loss: 6.2558 - acc: 0.6119 - val_loss: 8.0590 - val_acc: 0.5000\n",
            "\n",
            "Epoch 00012: val_acc did not improve from 0.50000\n",
            "Epoch 13/100\n",
            "200/200 [==============================] - 63s 314ms/step - loss: 6.3515 - acc: 0.6059 - val_loss: 8.0590 - val_acc: 0.5000\n",
            "\n",
            "Epoch 00013: val_acc did not improve from 0.50000\n",
            "Epoch 14/100\n",
            "200/200 [==============================] - 63s 314ms/step - loss: 6.3879 - acc: 0.6037 - val_loss: 8.0590 - val_acc: 0.5000\n",
            "\n",
            "Epoch 00014: val_acc did not improve from 0.50000\n",
            "Epoch 15/100\n",
            "200/200 [==============================] - 63s 314ms/step - loss: 6.4019 - acc: 0.6028 - val_loss: 8.0590 - val_acc: 0.5000\n",
            "\n",
            "Epoch 00015: val_acc did not improve from 0.50000\n",
            "Epoch 16/100\n",
            "200/200 [==============================] - 63s 316ms/step - loss: 6.2155 - acc: 0.6144 - val_loss: 8.0590 - val_acc: 0.5000\n",
            "\n",
            "Epoch 00016: val_acc did not improve from 0.50000\n",
            "Epoch 17/100\n",
            "200/200 [==============================] - 63s 314ms/step - loss: 6.2760 - acc: 0.6106 - val_loss: 8.0590 - val_acc: 0.5000\n",
            "\n",
            "Epoch 00017: val_acc did not improve from 0.50000\n",
            "Epoch 18/100\n",
            "200/200 [==============================] - 63s 314ms/step - loss: 6.2558 - acc: 0.6119 - val_loss: 8.0590 - val_acc: 0.5000\n",
            "\n",
            "Epoch 00018: val_acc did not improve from 0.50000\n",
            "Epoch 19/100\n",
            "200/200 [==============================] - 63s 314ms/step - loss: 6.3797 - acc: 0.6042 - val_loss: 8.0590 - val_acc: 0.5000\n",
            "\n",
            "Epoch 00019: val_acc did not improve from 0.50000\n",
            "Epoch 20/100\n",
            "200/200 [==============================] - 63s 314ms/step - loss: 6.4397 - acc: 0.6005 - val_loss: 8.0590 - val_acc: 0.5000\n",
            "\n",
            "Epoch 00020: val_acc did not improve from 0.50000\n",
            "Epoch 21/100\n",
            "200/200 [==============================] - 63s 314ms/step - loss: 6.1501 - acc: 0.6184 - val_loss: 8.0590 - val_acc: 0.5000\n",
            "\n",
            "Epoch 00021: val_acc did not improve from 0.50000\n",
            "Epoch 00021: early stopping\n"
          ],
          "name": "stdout"
        }
      ]
    },
    {
      "cell_type": "code",
      "metadata": {
        "id": "UJavSR9VgBQg",
        "colab_type": "code",
        "colab": {
          "base_uri": "https://localhost:8080/",
          "height": 295
        },
        "outputId": "1b07462e-fb0c-4db5-b2e6-6a366dd20f36"
      },
      "source": [
        "import matplotlib.pyplot as plt\n",
        "plt.plot(hist.history[\"acc\"])\n",
        "plt.plot(hist.history['val_acc'])\n",
        "plt.plot(hist.history['loss'])\n",
        "plt.plot(hist.history['val_loss'])\n",
        "plt.title(\"model accuracy\")\n",
        "plt.ylabel(\"Accuracy\")\n",
        "plt.xlabel(\"Epoch\")\n",
        "plt.legend([\"Accuracy\",\"Validation Accuracy\",\"loss\",\"Validation Loss\"])\n",
        "plt.show()"
      ],
      "execution_count": 49,
      "outputs": [
        {
          "output_type": "display_data",
          "data": {
            "image/png": "[encoded data removed]",
            "text/plain": [
              "<Figure size 432x288 with 1 Axes>"
            ]
          },
          "metadata": {
            "tags": []
          }
        }
      ]
    },
    {
      "cell_type": "code",
      "metadata": {
        "id": "GIgRO-BJGujH",
        "colab_type": "code",
        "colab": {
          "base_uri": "https://localhost:8080/",
          "height": 540
        },
        "outputId": "bf5dfbd9-958e-4b58-cdb7-3df6fd2da03c"
      },
      "source": [
        "from keras.preprocessing import image\n",
        "import matplotlib.pyplot as plt\n",
        "img = image.load_img(\"/content/drive/My Drive/classification_Dataset/cat_VS_dogs/test1/12500.jpg\",target_size=(224,224))\n",
        "img = np.asarray(img)\n",
        "plt.imshow(img)\n",
        "img = np.expand_dims(img, axis=0)\n",
        "from keras.models import load_model\n",
        "saved_model = load_model(\"/content/drive/My Drive/classification_Dataset/vgg16_1.h5\")\n",
        "output = saved_model.predict(img)\n",
        "if output[0][0] > output[0][1]:\n",
        "    print(\"cat\")\n",
        "else:\n",
        "    print('dog')"
      ],
      "execution_count": 0,
      "outputs": [
        {
          "output_type": "stream",
          "text": [
            "WARNING:tensorflow:From /usr/local/lib/python3.6/dist-packages/keras/backend/tensorflow_backend.py:541: The name tf.placeholder is deprecated. Please use tf.compat.v1.placeholder instead.\n",
            "\n",
            "WARNING:tensorflow:From /usr/local/lib/python3.6/dist-packages/keras/backend/tensorflow_backend.py:4432: The name tf.random_uniform is deprecated. Please use tf.random.uniform instead.\n",
            "\n",
            "WARNING:tensorflow:From /usr/local/lib/python3.6/dist-packages/keras/backend/tensorflow_backend.py:4267: The name tf.nn.max_pool is deprecated. Please use tf.nn.max_pool2d instead.\n",
            "\n",
            "WARNING:tensorflow:From /usr/local/lib/python3.6/dist-packages/keras/backend/tensorflow_backend.py:190: The name tf.get_default_session is deprecated. Please use tf.compat.v1.get_default_session instead.\n",
            "\n",
            "WARNING:tensorflow:From /usr/local/lib/python3.6/dist-packages/keras/backend/tensorflow_backend.py:197: The name tf.ConfigProto is deprecated. Please use tf.compat.v1.ConfigProto instead.\n",
            "\n",
            "WARNING:tensorflow:From /usr/local/lib/python3.6/dist-packages/keras/backend/tensorflow_backend.py:203: The name tf.Session is deprecated. Please use tf.compat.v1.Session instead.\n",
            "\n",
            "WARNING:tensorflow:From /usr/local/lib/python3.6/dist-packages/keras/backend/tensorflow_backend.py:207: The name tf.global_variables is deprecated. Please use tf.compat.v1.global_variables instead.\n",
            "\n",
            "WARNING:tensorflow:From /usr/local/lib/python3.6/dist-packages/keras/backend/tensorflow_backend.py:216: The name tf.is_variable_initialized is deprecated. Please use tf.compat.v1.is_variable_initialized instead.\n",
            "\n",
            "WARNING:tensorflow:From /usr/local/lib/python3.6/dist-packages/keras/backend/tensorflow_backend.py:223: The name tf.variables_initializer is deprecated. Please use tf.compat.v1.variables_initializer instead.\n",
            "\n",
            "WARNING:tensorflow:From /usr/local/lib/python3.6/dist-packages/keras/optimizers.py:793: The name tf.train.Optimizer is deprecated. Please use tf.compat.v1.train.Optimizer instead.\n",
            "\n",
            "WARNING:tensorflow:From /usr/local/lib/python3.6/dist-packages/keras/backend/tensorflow_backend.py:3576: The name tf.log is deprecated. Please use tf.math.log instead.\n",
            "\n",
            "WARNING:tensorflow:From /usr/local/lib/python3.6/dist-packages/tensorflow_core/python/ops/math_grad.py:1424: where (from tensorflow.python.ops.array_ops) is deprecated and will be removed in a future version.\n",
            "Instructions for updating:\n",
            "Use tf.where in 2.0, which has the same broadcast rule as np.where\n",
            "WARNING:tensorflow:From /usr/local/lib/python3.6/dist-packages/keras/backend/tensorflow_backend.py:1033: The name tf.assign_add is deprecated. Please use tf.compat.v1.assign_add instead.\n",
            "\n",
            "WARNING:tensorflow:From /usr/local/lib/python3.6/dist-packages/keras/backend/tensorflow_backend.py:1020: The name tf.assign is deprecated. Please use tf.compat.v1.assign instead.\n",
            "\n"
          ],
          "name": "stdout"
        }
      ]
    },
    {
      "cell_type": "code",
      "metadata": {
        "id": "dFB4wRP2zYbo",
        "colab_type": "code",
        "colab": {}
      },
      "source": [
        ""
      ],
      "execution_count": 0,
      "outputs": []
    }
  ]
}
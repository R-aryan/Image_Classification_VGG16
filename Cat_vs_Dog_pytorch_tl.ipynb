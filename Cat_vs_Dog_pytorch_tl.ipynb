{
  "nbformat": 4,
  "nbformat_minor": 0,
  "metadata": {
    "colab": {
      "name": "Cat_vs_Dog_pytorch_tl.ipynb",
      "provenance": [],
      "collapsed_sections": [],
      "mount_file_id": "1V5EdAzPZNsjSXEQvgGxUPwP3CXhHKVYX",
      "authorship_tag": "ABX9TyPvMEwq+0VQOUxx7g6yn1aU",
      "include_colab_link": true
    },
    "kernelspec": {
      "name": "python3",
      "display_name": "Python 3"
    },
    "accelerator": "GPU"
  },
  "cells": [
    {
      "cell_type": "markdown",
      "metadata": {
        "id": "view-in-github",
        "colab_type": "text"
      },
      "source": [
        "<a href=\"https://colab.research.google.com/github/R-aryan/Image_Classification_VGG16/blob/master/Cat_vs_Dog_pytorch_tl.ipynb\" target=\"_parent\"><img src=\"https://colab.research.google.com/assets/colab-badge.svg\" alt=\"Open In Colab\"/></a>"
      ]
    },
    {
      "cell_type": "code",
      "metadata": {
        "id": "PxgPVEEqOjX_",
        "colab_type": "code",
        "colab": {}
      },
      "source": [
        "import os\n",
        "train_dir = '/content/drive/My Drive/classification_Dataset/cat_VS_dogs/train/'\n",
        "train_dogs_dir = '/content/drive/My Drive/classification_Dataset/cat_VS_dogs/train/Dogs/'\n",
        "train_cats_dir = '/content/drive/My Drive/classification_Dataset/cat_VS_dogs/train/Cats/'\n",
        "val_dir = '/content/drive/My Drive/classification_Dataset/cat_VS_dogs/validation_data/'\n",
        "val_dogs_dir = '/content/drive/My Drive/classification_Dataset/cat_VS_dogs/validation_data/Dogs/'\n",
        "val_cats_dir = '/content/drive/My Drive/classification_Dataset/cat_VS_dogs/validation_data/Cats/'"
      ],
      "execution_count": 0,
      "outputs": []
    },
    {
      "cell_type": "code",
      "metadata": {
        "id": "oreWQ257Pp08",
        "colab_type": "code",
        "colab": {}
      },
      "source": [
        "# print(\"Printing train dir\") # shows cats, dogs subfolders only\n",
        "# !ls {train_dir} | head -n 5\n",
        "# print(\"Printing train dog dir\") # there is now dog images in dogs folder\n",
        "# !ls {train_dogs_dir} | head -n 5\n",
        "# print(\"Printing train cat dir\") # there is now cat images in cats folder\n",
        "# !ls {train_cats_dir} | head -n 5\n"
      ],
      "execution_count": 0,
      "outputs": []
    },
    {
      "cell_type": "code",
      "metadata": {
        "id": "1IhbYOjHP2Bo",
        "colab_type": "code",
        "colab": {
          "base_uri": "https://localhost:8080/",
          "height": 35
        },
        "outputId": "bc5a8622-5364-42a0-e545-56069b7467dc"
      },
      "source": [
        "pwd"
      ],
      "execution_count": 7,
      "outputs": [
        {
          "output_type": "execute_result",
          "data": {
            "text/plain": [
              "'/content'"
            ]
          },
          "metadata": {
            "tags": []
          },
          "execution_count": 7
        }
      ]
    },
    {
      "cell_type": "code",
      "metadata": {
        "id": "H27TzTelRERy",
        "colab_type": "code",
        "colab": {
          "base_uri": "https://localhost:8080/",
          "height": 35
        },
        "outputId": "7f05a7bb-14be-4011-e0b9-234dc8148f80"
      },
      "source": [
        "files = os.listdir(train_dir)\n",
        "files"
      ],
      "execution_count": 12,
      "outputs": [
        {
          "output_type": "execute_result",
          "data": {
            "text/plain": [
              "['Dogs', 'Cats']"
            ]
          },
          "metadata": {
            "tags": []
          },
          "execution_count": 12
        }
      ]
    },
    {
      "cell_type": "code",
      "metadata": {
        "id": "Rq3L-d4dRmBa",
        "colab_type": "code",
        "colab": {
          "base_uri": "https://localhost:8080/",
          "height": 35
        },
        "outputId": "f28bb776-4335-465b-ddbe-74ce877c58ca"
      },
      "source": [
        "files = os.listdir(train_dogs_dir)\n",
        "len(files)"
      ],
      "execution_count": 13,
      "outputs": [
        {
          "output_type": "execute_result",
          "data": {
            "text/plain": [
              "7996"
            ]
          },
          "metadata": {
            "tags": []
          },
          "execution_count": 13
        }
      ]
    },
    {
      "cell_type": "code",
      "metadata": {
        "id": "__WNnFiIRr5s",
        "colab_type": "code",
        "colab": {
          "base_uri": "https://localhost:8080/",
          "height": 35
        },
        "outputId": "955fd7af-729b-4051-f53d-d323bad5796a"
      },
      "source": [
        "files = os.listdir(train_cats_dir)\n",
        "len(files)"
      ],
      "execution_count": 14,
      "outputs": [
        {
          "output_type": "execute_result",
          "data": {
            "text/plain": [
              "12442"
            ]
          },
          "metadata": {
            "tags": []
          },
          "execution_count": 14
        }
      ]
    },
    {
      "cell_type": "markdown",
      "metadata": {
        "id": "J16tr9ygR935",
        "colab_type": "text"
      },
      "source": [
        "Now that data is in the right structure, it’s time to train our model. First is importing what I need for this notebook. But this is not the complete list of imports, we will import the rest as they are needed."
      ]
    },
    {
      "cell_type": "code",
      "metadata": {
        "id": "d9hqfDZ9RzcG",
        "colab_type": "code",
        "colab": {}
      },
      "source": [
        ""
      ],
      "execution_count": 0,
      "outputs": []
    }
  ]
}
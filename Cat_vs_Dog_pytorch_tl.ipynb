{
  "nbformat": 4,
  "nbformat_minor": 0,
  "metadata": {
    "colab": {
      "name": "Cat_vs_Dog_pytorch_tl.ipynb",
      "provenance": [],
      "collapsed_sections": [],
      "mount_file_id": "1V5EdAzPZNsjSXEQvgGxUPwP3CXhHKVYX",
      "authorship_tag": "ABX9TyMzVDOqoXXULmI9OqB0yqGB",
      "include_colab_link": true
    },
    "kernelspec": {
      "name": "python3",
      "display_name": "Python 3"
    },
    "accelerator": "GPU",
    "widgets": {
      "application/vnd.jupyter.widget-state+json": {
        "92495472e3a649b583bbc2a7611a554b": {
          "model_module": "@jupyter-widgets/controls",
          "model_name": "HBoxModel",
          "state": {
            "_view_name": "HBoxView",
            "_dom_classes": [],
            "_model_name": "HBoxModel",
            "_view_module": "@jupyter-widgets/controls",
            "_model_module_version": "1.5.0",
            "_view_count": null,
            "_view_module_version": "1.5.0",
            "box_style": "",
            "layout": "IPY_MODEL_20059d7fcad84ad083782385ffbfd0ca",
            "_model_module": "@jupyter-widgets/controls",
            "children": [
              "IPY_MODEL_740b7fdd56114b688338166dfc5eee0d",
              "IPY_MODEL_5cab20ac163b4b2bb584ec13934d943f"
            ]
          }
        },
        "20059d7fcad84ad083782385ffbfd0ca": {
          "model_module": "@jupyter-widgets/base",
          "model_name": "LayoutModel",
          "state": {
            "_view_name": "LayoutView",
            "grid_template_rows": null,
            "right": null,
            "justify_content": null,
            "_view_module": "@jupyter-widgets/base",
            "overflow": null,
            "_model_module_version": "1.2.0",
            "_view_count": null,
            "flex_flow": null,
            "width": null,
            "min_width": null,
            "border": null,
            "align_items": null,
            "bottom": null,
            "_model_module": "@jupyter-widgets/base",
            "top": null,
            "grid_column": null,
            "overflow_y": null,
            "overflow_x": null,
            "grid_auto_flow": null,
            "grid_area": null,
            "grid_template_columns": null,
            "flex": null,
            "_model_name": "LayoutModel",
            "justify_items": null,
            "grid_row": null,
            "max_height": null,
            "align_content": null,
            "visibility": null,
            "align_self": null,
            "height": null,
            "min_height": null,
            "padding": null,
            "grid_auto_rows": null,
            "grid_gap": null,
            "max_width": null,
            "order": null,
            "_view_module_version": "1.2.0",
            "grid_template_areas": null,
            "object_position": null,
            "object_fit": null,
            "grid_auto_columns": null,
            "margin": null,
            "display": null,
            "left": null
          }
        },
        "740b7fdd56114b688338166dfc5eee0d": {
          "model_module": "@jupyter-widgets/controls",
          "model_name": "IntProgressModel",
          "state": {
            "_view_name": "ProgressView",
            "style": "IPY_MODEL_7ff69810a864419b923414fada42d72b",
            "_dom_classes": [],
            "description": "100%",
            "_model_name": "IntProgressModel",
            "bar_style": "success",
            "max": 102502400,
            "_view_module": "@jupyter-widgets/controls",
            "_model_module_version": "1.5.0",
            "value": 102502400,
            "_view_count": null,
            "_view_module_version": "1.5.0",
            "orientation": "horizontal",
            "min": 0,
            "description_tooltip": null,
            "_model_module": "@jupyter-widgets/controls",
            "layout": "IPY_MODEL_bb55a5a343474f079da8492987398483"
          }
        },
        "5cab20ac163b4b2bb584ec13934d943f": {
          "model_module": "@jupyter-widgets/controls",
          "model_name": "HTMLModel",
          "state": {
            "_view_name": "HTMLView",
            "style": "IPY_MODEL_9845bbe104da410cb8074d283002617c",
            "_dom_classes": [],
            "description": "",
            "_model_name": "HTMLModel",
            "placeholder": "​",
            "_view_module": "@jupyter-widgets/controls",
            "_model_module_version": "1.5.0",
            "value": " 97.8M/97.8M [00:00&lt;00:00, 135MB/s]",
            "_view_count": null,
            "_view_module_version": "1.5.0",
            "description_tooltip": null,
            "_model_module": "@jupyter-widgets/controls",
            "layout": "IPY_MODEL_5799c10359f34ee48f886c87dd1eb38f"
          }
        },
        "7ff69810a864419b923414fada42d72b": {
          "model_module": "@jupyter-widgets/controls",
          "model_name": "ProgressStyleModel",
          "state": {
            "_view_name": "StyleView",
            "_model_name": "ProgressStyleModel",
            "description_width": "initial",
            "_view_module": "@jupyter-widgets/base",
            "_model_module_version": "1.5.0",
            "_view_count": null,
            "_view_module_version": "1.2.0",
            "bar_color": null,
            "_model_module": "@jupyter-widgets/controls"
          }
        },
        "bb55a5a343474f079da8492987398483": {
          "model_module": "@jupyter-widgets/base",
          "model_name": "LayoutModel",
          "state": {
            "_view_name": "LayoutView",
            "grid_template_rows": null,
            "right": null,
            "justify_content": null,
            "_view_module": "@jupyter-widgets/base",
            "overflow": null,
            "_model_module_version": "1.2.0",
            "_view_count": null,
            "flex_flow": null,
            "width": null,
            "min_width": null,
            "border": null,
            "align_items": null,
            "bottom": null,
            "_model_module": "@jupyter-widgets/base",
            "top": null,
            "grid_column": null,
            "overflow_y": null,
            "overflow_x": null,
            "grid_auto_flow": null,
            "grid_area": null,
            "grid_template_columns": null,
            "flex": null,
            "_model_name": "LayoutModel",
            "justify_items": null,
            "grid_row": null,
            "max_height": null,
            "align_content": null,
            "visibility": null,
            "align_self": null,
            "height": null,
            "min_height": null,
            "padding": null,
            "grid_auto_rows": null,
            "grid_gap": null,
            "max_width": null,
            "order": null,
            "_view_module_version": "1.2.0",
            "grid_template_areas": null,
            "object_position": null,
            "object_fit": null,
            "grid_auto_columns": null,
            "margin": null,
            "display": null,
            "left": null
          }
        },
        "9845bbe104da410cb8074d283002617c": {
          "model_module": "@jupyter-widgets/controls",
          "model_name": "DescriptionStyleModel",
          "state": {
            "_view_name": "StyleView",
            "_model_name": "DescriptionStyleModel",
            "description_width": "",
            "_view_module": "@jupyter-widgets/base",
            "_model_module_version": "1.5.0",
            "_view_count": null,
            "_view_module_version": "1.2.0",
            "_model_module": "@jupyter-widgets/controls"
          }
        },
        "5799c10359f34ee48f886c87dd1eb38f": {
          "model_module": "@jupyter-widgets/base",
          "model_name": "LayoutModel",
          "state": {
            "_view_name": "LayoutView",
            "grid_template_rows": null,
            "right": null,
            "justify_content": null,
            "_view_module": "@jupyter-widgets/base",
            "overflow": null,
            "_model_module_version": "1.2.0",
            "_view_count": null,
            "flex_flow": null,
            "width": null,
            "min_width": null,
            "border": null,
            "align_items": null,
            "bottom": null,
            "_model_module": "@jupyter-widgets/base",
            "top": null,
            "grid_column": null,
            "overflow_y": null,
            "overflow_x": null,
            "grid_auto_flow": null,
            "grid_area": null,
            "grid_template_columns": null,
            "flex": null,
            "_model_name": "LayoutModel",
            "justify_items": null,
            "grid_row": null,
            "max_height": null,
            "align_content": null,
            "visibility": null,
            "align_self": null,
            "height": null,
            "min_height": null,
            "padding": null,
            "grid_auto_rows": null,
            "grid_gap": null,
            "max_width": null,
            "order": null,
            "_view_module_version": "1.2.0",
            "grid_template_areas": null,
            "object_position": null,
            "object_fit": null,
            "grid_auto_columns": null,
            "margin": null,
            "display": null,
            "left": null
          }
        }
      }
    }
  },
  "cells": [
    {
      "cell_type": "markdown",
      "metadata": {
        "id": "view-in-github",
        "colab_type": "text"
      },
      "source": [
        "<a href=\"https://colab.research.google.com/github/R-aryan/Image_Classification_VGG16/blob/master/Cat_vs_Dog_pytorch_tl.ipynb\" target=\"_parent\"><img src=\"https://colab.research.google.com/assets/colab-badge.svg\" alt=\"Open In Colab\"/></a>"
      ]
    },
    {
      "cell_type": "code",
      "metadata": {
        "id": "PxgPVEEqOjX_",
        "colab_type": "code",
        "colab": {}
      },
      "source": [
        "import os\n",
        "train_dir = '/content/drive/My Drive/classification_Dataset/cat_VS_dogs/train/'\n",
        "train_dogs_dir = '/content/drive/My Drive/classification_Dataset/cat_VS_dogs/train/Dogs/'\n",
        "train_cats_dir = '/content/drive/My Drive/classification_Dataset/cat_VS_dogs/train/Cats/'\n",
        "val_dir = '/content/drive/My Drive/classification_Dataset/cat_VS_dogs/val/'\n",
        "val_dogs_dir = '/content/drive/My Drive/classification_Dataset/cat_VS_dogs/val/Dogs/'\n",
        "val_cats_dir = '/content/drive/My Drive/classification_Dataset/cat_VS_dogs/val/Cats/'\n",
        "test_data_dir= '/content/drive/My Drive/classification_Dataset/cat_VS_dogs/test/'\n",
        "test_data_files = os.listdir(test_data_dir)"
      ],
      "execution_count": 0,
      "outputs": []
    },
    {
      "cell_type": "code",
      "metadata": {
        "id": "oreWQ257Pp08",
        "colab_type": "code",
        "colab": {}
      },
      "source": [
        "# print(\"Printing train dir\") # shows cats, dogs subfolders only\n",
        "# !ls {train_dir} | head -n 5\n",
        "# print(\"Printing train dog dir\") # there is now dog images in dogs folder\n",
        "# !ls {train_dogs_dir} | head -n 5\n",
        "# print(\"Printing train cat dir\") # there is now cat images in cats folder\n",
        "# !ls {train_cats_dir} | head -n 5\n"
      ],
      "execution_count": 0,
      "outputs": []
    },
    {
      "cell_type": "code",
      "metadata": {
        "id": "1IhbYOjHP2Bo",
        "colab_type": "code",
        "outputId": "db540846-a41f-4e9a-e24a-fce41c87f164",
        "colab": {
          "base_uri": "https://localhost:8080/",
          "height": 35
        }
      },
      "source": [
        "pwd"
      ],
      "execution_count": 5,
      "outputs": [
        {
          "output_type": "execute_result",
          "data": {
            "text/plain": [
              "'/content'"
            ]
          },
          "metadata": {
            "tags": []
          },
          "execution_count": 5
        }
      ]
    },
    {
      "cell_type": "code",
      "metadata": {
        "id": "H27TzTelRERy",
        "colab_type": "code",
        "outputId": "90ae9691-8eb2-42e4-98f1-d980b9e66b96",
        "colab": {
          "base_uri": "https://localhost:8080/",
          "height": 35
        }
      },
      "source": [
        "files = os.listdir(train_dir)\n",
        "files"
      ],
      "execution_count": 6,
      "outputs": [
        {
          "output_type": "execute_result",
          "data": {
            "text/plain": [
              "['Dogs', 'Cats']"
            ]
          },
          "metadata": {
            "tags": []
          },
          "execution_count": 6
        }
      ]
    },
    {
      "cell_type": "code",
      "metadata": {
        "id": "Rq3L-d4dRmBa",
        "colab_type": "code",
        "outputId": "a198f2da-e9fd-4bc5-e355-18865533c148",
        "colab": {
          "base_uri": "https://localhost:8080/",
          "height": 35
        }
      },
      "source": [
        "files = os.listdir(train_dogs_dir)\n",
        "len(files)"
      ],
      "execution_count": 7,
      "outputs": [
        {
          "output_type": "execute_result",
          "data": {
            "text/plain": [
              "7996"
            ]
          },
          "metadata": {
            "tags": []
          },
          "execution_count": 7
        }
      ]
    },
    {
      "cell_type": "code",
      "metadata": {
        "id": "__WNnFiIRr5s",
        "colab_type": "code",
        "outputId": "ce474e6b-4755-4750-8688-c83848bf6717",
        "colab": {
          "base_uri": "https://localhost:8080/",
          "height": 35
        }
      },
      "source": [
        "files = os.listdir(train_cats_dir)\n",
        "len(files)"
      ],
      "execution_count": 8,
      "outputs": [
        {
          "output_type": "execute_result",
          "data": {
            "text/plain": [
              "12442"
            ]
          },
          "metadata": {
            "tags": []
          },
          "execution_count": 8
        }
      ]
    },
    {
      "cell_type": "markdown",
      "metadata": {
        "id": "J16tr9ygR935",
        "colab_type": "text"
      },
      "source": [
        "Now that data is in the right structure, it’s time to train our model. First is importing what I need for this notebook. But this is not the complete list of imports, we will import the rest as they are needed."
      ]
    },
    {
      "cell_type": "code",
      "metadata": {
        "id": "d9hqfDZ9RzcG",
        "colab_type": "code",
        "outputId": "3f2f146a-a845-4c8a-fad0-d544f91d4485",
        "colab": {
          "base_uri": "https://localhost:8080/",
          "height": 35
        }
      },
      "source": [
        "import torch\n",
        "import torch.nn as nn\n",
        "import torch.optim as optim\n",
        "from torch.optim import lr_scheduler\n",
        "import numpy as np\n",
        "import torchvision\n",
        "from torchvision import datasets, models, transforms\n",
        "import matplotlib.pyplot as plt\n",
        "import time\n",
        "import os\n",
        "import copy\n",
        "import math\n",
        "print(torch.__version__)\n",
        "plt.ion()   # interactive mode\n",
        "\n",
        "\n",
        "from PIL import Image"
      ],
      "execution_count": 9,
      "outputs": [
        {
          "output_type": "stream",
          "text": [
            "1.4.0\n"
          ],
          "name": "stdout"
        }
      ]
    },
    {
      "cell_type": "markdown",
      "metadata": {
        "id": "F6z8ad6UST1l",
        "colab_type": "text"
      },
      "source": [
        "Let’s define training data augmentation and validation data transform."
      ]
    },
    {
      "cell_type": "code",
      "metadata": {
        "id": "fvRCiiHISMSu",
        "colab_type": "code",
        "colab": {}
      },
      "source": [
        "# Data augmentation and normalization for training\n",
        "# Just normalization for validation\n",
        "data_transforms = {\n",
        "    'train': transforms.Compose([\n",
        "        transforms.RandomRotation(5),\n",
        "        transforms.RandomHorizontalFlip(),\n",
        "        transforms.RandomResizedCrop(224, scale=(0.96, 1.0), ratio=(0.95, 1.05)),\n",
        "        transforms.ToTensor(),\n",
        "        transforms.Normalize([0.485, 0.456, 0.406], [0.229, 0.224, 0.225])\n",
        "    ]),\n",
        "    'val': transforms.Compose([\n",
        "        transforms.Resize([224,224]),\n",
        "        transforms.ToTensor(),\n",
        "        transforms.Normalize([0.485, 0.456, 0.406], [0.229, 0.224, 0.225])\n",
        "    ]),\n",
        "}"
      ],
      "execution_count": 0,
      "outputs": []
    },
    {
      "cell_type": "markdown",
      "metadata": {
        "id": "2W4uvOmpSpm4",
        "colab_type": "text"
      },
      "source": [
        "As data augmentation I apply a little bit of rotation, random flips and resizing + crop. The scale of resizing is 0.96–1.0. I try to avoid giving scale less than 0.96 because you can still get the wanted variation in data and there is much less risk of cutting some important part of data off (e.g. head of the cat or dog, if we don’t have head part, it will be much harder for machine to learn how each class should look like). Also a moderate ratio change should be ok for our purpose (thinner or fatter, a cat is a cat right?). About Normalization, I used some hard coded value for mean and standard deviation. These values are known to work well and used frequently. Check this Facebook AI engineer’s recommendation for using those values and also official PyTorch example using the same value."
      ]
    },
    {
      "cell_type": "code",
      "metadata": {
        "id": "3aKFaeDNSXz_",
        "colab_type": "code",
        "outputId": "b14db9ca-da04-421c-99ee-a2bc2b93fc84",
        "colab": {
          "base_uri": "https://localhost:8080/",
          "height": 69
        }
      },
      "source": [
        "data_dir = '/content/drive/My Drive/classification_Dataset/cat_VS_dogs/'\n",
        "CHECK_POINT_PATH = '/content/drive/My Drive/classification_Dataset/cat_VS_dogs/checkpoint.tar'\n",
        "SUBMISSION_FILE = 'submission.csv'\n",
        "image_datasets = {x: datasets.ImageFolder(os.path.join(data_dir, x),\n",
        "                                          data_transforms[x])\n",
        "                  for x in ['train', 'val']}\n",
        "dataloaders = {x: torch.utils.data.DataLoader(image_datasets[x], batch_size=4,\n",
        "                                              shuffle=True, num_workers=4)\n",
        "              for x in ['train', 'val']}\n",
        "dataset_sizes = {x: len(image_datasets[x]) for x in ['train', 'val']}\n",
        "class_names = image_datasets['train'].classes\n",
        "device = torch.device(\"cuda:0\" if torch.cuda.is_available() else \"cpu\")\n",
        "print(class_names) # => ['cats', 'dogs']\n",
        "print(f'Train image size: {dataset_sizes[\"train\"]}')\n",
        "print(f'Validation image size: {dataset_sizes[\"val\"]}')\n"
      ],
      "execution_count": 11,
      "outputs": [
        {
          "output_type": "stream",
          "text": [
            "['Cats', 'Dogs']\n",
            "Train image size: 20438\n",
            "Validation image size: 98\n"
          ],
          "name": "stdout"
        }
      ]
    },
    {
      "cell_type": "markdown",
      "metadata": {
        "id": "eabmEENCT1Bm",
        "colab_type": "text"
      },
      "source": [
        "Let’s take a look at what a mini batch (4 images) from training set look like using the next snippet of code."
      ]
    },
    {
      "cell_type": "code",
      "metadata": {
        "id": "3BKArBaBS1bO",
        "colab_type": "code",
        "outputId": "812b36bf-1b16-408b-f985-7dd9a6e7fa45",
        "colab": {
          "base_uri": "https://localhost:8080/",
          "height": 148
        }
      },
      "source": [
        "def imshow(inp, title=None):\n",
        "    \"\"\"Imshow for Tensor.\"\"\"\n",
        "    inp = inp.numpy().transpose((1, 2, 0))\n",
        "    mean = np.array([0.485, 0.456, 0.406])\n",
        "    std = np.array([0.229, 0.224, 0.225])\n",
        "    inp = std * inp + mean\n",
        "    inp = np.clip(inp, 0, 1)\n",
        "    plt.imshow(inp)\n",
        "    if title is not None:\n",
        "        plt.title(title)\n",
        "    plt.pause(0.001)  # pause a bit so that plots are updated\n",
        "# Get a batch of training data\n",
        "inputs, classes = next(iter(dataloaders['train']))\n",
        "# Make a grid from batch\n",
        "sample_train_images = torchvision.utils.make_grid(inputs)\n",
        "imshow(sample_train_images, title=classes)"
      ],
      "execution_count": 12,
      "outputs": [
        {
          "output_type": "display_data",
          "data": {
            "image/png": "[encoded data removed]",
            "text/plain": [
              "<Figure size 432x288 with 1 Axes>"
            ]
          },
          "metadata": {
            "tags": [],
            "needs_background": "light"
          }
        }
      ]
    },
    {
      "cell_type": "markdown",
      "metadata": {
        "id": "fcMEBGfAUCOt",
        "colab_type": "text"
      },
      "source": [
        "You will see randomly selected 4 images and title will say 0 for cat and 1 for dog. Next let’s define a function that trains our model and return some metric."
      ]
    },
    {
      "cell_type": "code",
      "metadata": {
        "id": "vx-YXrtrT4XI",
        "colab_type": "code",
        "colab": {}
      },
      "source": [
        "def train_model(model, criterion, optimizer, scheduler, num_epochs=2, checkpoint = None):\n",
        "    since = time.time()\n",
        "\n",
        "    if checkpoint is None:\n",
        "        best_model_wts = copy.deepcopy(model.state_dict())\n",
        "        best_loss = math.inf\n",
        "        best_acc = 0.\n",
        "    else:\n",
        "        print(f'Val loss: {checkpoint[\"best_val_loss\"]}, Val accuracy: {checkpoint[\"best_val_accuracy\"]}')\n",
        "        model.load_state_dict(checkpoint['model_state_dict'])\n",
        "        best_model_wts = copy.deepcopy(model.state_dict())\n",
        "        optimizer.load_state_dict(checkpoint['optimizer_state_dict'])\n",
        "        scheduler.load_state_dict(checkpoint['scheduler_state_dict'])\n",
        "        best_loss = checkpoint['best_val_loss']\n",
        "        best_acc = checkpoint['best_val_accuracy']\n",
        "\n",
        "    for epoch in range(num_epochs):\n",
        "        print('Epoch {}/{}'.format(epoch, num_epochs - 1))\n",
        "        print('-' * 10)\n",
        "\n",
        "        # Each epoch has a training and validation phase\n",
        "        for phase in ['train', 'val']:\n",
        "            if phase == 'train':\n",
        "                scheduler.step()\n",
        "                model.train()  # Set model to training mode\n",
        "            else:\n",
        "                model.eval()   # Set model to evaluate mode\n",
        "\n",
        "            running_loss = 0.0\n",
        "            running_corrects = 0\n",
        "\n",
        "            # Iterate over data.\n",
        "            for i, (inputs, labels) in enumerate(dataloaders[phase]):\n",
        "                inputs = inputs.to(device)\n",
        "                labels = labels.to(device)\n",
        "\n",
        "                # zero the parameter gradients\n",
        "                optimizer.zero_grad()\n",
        "                \n",
        "                if i % 200 == 199:\n",
        "                    print('[%d, %d] loss: %.3f' % \n",
        "                          (epoch + 1, i, running_loss / (i * inputs.size(0))))\n",
        "\n",
        "                # forward\n",
        "                # track history if only in train\n",
        "                with torch.set_grad_enabled(phase == 'train'):\n",
        "                    outputs = model(inputs)\n",
        "                    _, preds = torch.max(outputs, 1)\n",
        "                    loss = criterion(outputs, labels)\n",
        "\n",
        "                    # backward + optimize only if in training phase\n",
        "                    if phase == 'train':\n",
        "                        loss.backward()\n",
        "                        optimizer.step()\n",
        "\n",
        "                # statistics\n",
        "                running_loss += loss.item() * inputs.size(0)\n",
        "                running_corrects += torch.sum(preds == labels.data)\n",
        "\n",
        "            epoch_loss = running_loss / dataset_sizes[phase]\n",
        "            epoch_acc = running_corrects.double() / dataset_sizes[phase]\n",
        "\n",
        "            print('{} Loss: {:.4f} Acc: {:.4f}'.format(\n",
        "                phase, epoch_loss, epoch_acc))\n",
        "\n",
        "            # deep copy the model\n",
        "            if phase == 'val' and epoch_loss < best_loss:\n",
        "                print(f'New best model found!')\n",
        "                print(f'New record loss: {epoch_loss}, previous record loss: {best_loss}')\n",
        "                best_loss = epoch_loss\n",
        "                best_acc = epoch_acc\n",
        "                best_model_wts = copy.deepcopy(model.state_dict())\n",
        "\n",
        "        print()\n",
        "\n",
        "    time_elapsed = time.time() - since\n",
        "    print('Training complete in {:.0f}m {:.0f}s'.format(\n",
        "        time_elapsed // 60, time_elapsed % 60))\n",
        "    print('Best val Acc: {:.4f} Best val loss: {:.4f}'.format(best_acc, best_loss))\n",
        "\n",
        "    # load best model weights\n",
        "    model.load_state_dict(best_model_wts)\n",
        "    return model, best_loss, best_acc\n"
      ],
      "execution_count": 0,
      "outputs": []
    },
    {
      "cell_type": "markdown",
      "metadata": {
        "id": "eXekBPvBVSI_",
        "colab_type": "text"
      },
      "source": [
        "The function first checks if saved checkpoint is passed. If yes, then it will load the saved parameter and start training from where it left off. If no, then it starts training the model it was passed (we will still use pretrained model from beginning). The function updates parameters only in train phase and prints out some metrics every epochs or whenever it has new best loss.\n",
        "Now let’s define our model by downloading pretrained model. It takes some time to run next code if you never ran it before."
      ]
    },
    {
      "cell_type": "code",
      "metadata": {
        "id": "-3-d5kNSUQZM",
        "colab_type": "code",
        "outputId": "6b2fba78-737b-4487-bdf6-809bb4447095",
        "colab": {
          "base_uri": "https://localhost:8080/",
          "height": 104,
          "referenced_widgets": [
            "92495472e3a649b583bbc2a7611a554b",
            "20059d7fcad84ad083782385ffbfd0ca",
            "740b7fdd56114b688338166dfc5eee0d",
            "5cab20ac163b4b2bb584ec13934d943f",
            "7ff69810a864419b923414fada42d72b",
            "bb55a5a343474f079da8492987398483",
            "9845bbe104da410cb8074d283002617c",
            "5799c10359f34ee48f886c87dd1eb38f"
          ]
        }
      },
      "source": [
        "model_conv = torchvision.models.resnet50(pretrained=True)"
      ],
      "execution_count": 14,
      "outputs": [
        {
          "output_type": "stream",
          "text": [
            "Downloading: \"https://download.pytorch.org/models/resnet50-19c8e357.pth\" to /root/.cache/torch/checkpoints/resnet50-19c8e357.pth\n"
          ],
          "name": "stderr"
        },
        {
          "output_type": "display_data",
          "data": {
            "application/vnd.jupyter.widget-view+json": {
              "model_id": "92495472e3a649b583bbc2a7611a554b",
              "version_minor": 0,
              "version_major": 2
            },
            "text/plain": [
              "HBox(children=(IntProgress(value=0, max=102502400), HTML(value='')))"
            ]
          },
          "metadata": {
            "tags": []
          }
        },
        {
          "output_type": "stream",
          "text": [
            "\n"
          ],
          "name": "stdout"
        }
      ]
    },
    {
      "cell_type": "markdown",
      "metadata": {
        "id": "hDtGRnPmVXjt",
        "colab_type": "text"
      },
      "source": [
        "resnet50 is a convolutional neural network architecture that is really powerful for solving computer vision problems. Less powerful but less resource consuming models you might be interested in using include resnet18 and resnet34. By giving pretrained=True as an argument you will download a model with the parameters trained with ImageNet data set. Since we need to change the model for our needs (binary class classification), we will change the last fully connected layer and define a loss function that’s useful for classification problem (cross entropy loss, which combines log softmax and negative log likelihood loss function). Optimzier is stochastic gradient descent optimizer and scheduler is exponential because it will reduce learning rate by the factor of 10 every 7 epochs (In reality I only trained 6 epochs)."
      ]
    },
    {
      "cell_type": "code",
      "metadata": {
        "id": "R9fmfk0UVFTW",
        "colab_type": "code",
        "colab": {}
      },
      "source": [
        "for param in model_conv.parameters():\n",
        "    param.requires_grad = False\n",
        "\n",
        "# Parameters of newly constructed modules have requires_grad=True by default\n",
        "num_ftrs = model_conv.fc.in_features\n",
        "model_conv.fc = nn.Linear(num_ftrs, 2)\n",
        "\n",
        "model_conv = model_conv.to(device)\n",
        "\n",
        "criterion = nn.CrossEntropyLoss()\n",
        "\n",
        "# Observe that only parameters of final layer are being optimized\n",
        "optimizer_conv = optim.SGD(model_conv.fc.parameters(), lr=0.001, momentum=0.9)\n",
        "\n",
        "# Decay LR by a factor of 0.1 every 7 epochs\n",
        "exp_lr_scheduler = lr_scheduler.StepLR(optimizer_conv, step_size=7, gamma=0.1)"
      ],
      "execution_count": 0,
      "outputs": []
    },
    {
      "cell_type": "code",
      "metadata": {
        "id": "-wwRL8GLVyue",
        "colab_type": "code",
        "outputId": "6f181a19-13df-428a-953d-ce1fae0cab3b",
        "colab": {
          "base_uri": "https://localhost:8080/",
          "height": 329
        }
      },
      "source": [
        "try:\n",
        "    checkpoint = torch.load(CHECK_POINT_PATH)\n",
        "    print(\"checkpoint loaded\")\n",
        "except:\n",
        "    checkpoint = None\n",
        "    print(\"checkpoint not found\")\n",
        "model_conv, best_val_loss, best_val_acc = train_model(model_conv,\n",
        "                                                      criterion,\n",
        "                                                      optimizer_conv,\n",
        "                                                      exp_lr_scheduler,\n",
        "                                                      num_epochs = 2,\n",
        "                                                      checkpoint = checkpoint)\n",
        "torch.save({'model_state_dict': model_conv.state_dict(),\n",
        "            'optimizer_state_dict': optimizer_conv.state_dict(),\n",
        "            'best_val_loss': best_val_loss,\n",
        "            'best_val_accuracy': best_val_acc,\n",
        "            'scheduler_state_dict' : exp_lr_scheduler.state_dict(),\n",
        "            }, CHECK_POINT_PATH)"
      ],
      "execution_count": 0,
      "outputs": [
        {
          "output_type": "stream",
          "text": [
            "checkpoint loaded\n",
            "Val loss: 0.019031929118292674, Val accuracy: 0.9897959183673468\n",
            "Epoch 0/1\n",
            "----------\n",
            "[1, 199] loss: 0.183\n",
            "[1, 399] loss: 0.191\n",
            "[1, 599] loss: 0.189\n",
            "[1, 799] loss: 0.178\n",
            "[1, 999] loss: 0.174\n",
            "[1, 1199] loss: 0.179\n",
            "[1, 1399] loss: 0.183\n",
            "[1, 1599] loss: 0.182\n",
            "[1, 1799] loss: 0.182\n",
            "[1, 1999] loss: 0.179\n",
            "[1, 2199] loss: 0.176\n",
            "[1, 2399] loss: 0.176\n",
            "[1, 2599] loss: 0.178\n",
            "[1, 2799] loss: 0.178\n"
          ],
          "name": "stdout"
        }
      ]
    },
    {
      "cell_type": "code",
      "metadata": {
        "id": "uivf9ewmV-oV",
        "colab_type": "code",
        "colab": {}
      },
      "source": [
        "# for param in model_conv.parameters():\n",
        "#     param.requires_grad = True\n",
        "# model_conv = model_conv.to(device)\n",
        "# # Observe that all parameters are being optimized\n",
        "# optimizer_ft = optim.SGD(model_conv.parameters(), lr=0.001, momentum=0.9)"
      ],
      "execution_count": 0,
      "outputs": []
    },
    {
      "cell_type": "code",
      "metadata": {
        "id": "wqlpeY0McPB3",
        "colab_type": "code",
        "colab": {}
      },
      "source": [
        "\n",
        "def visualize_model(model, num_images=6):\n",
        "    was_training = model.training\n",
        "    model.eval()\n",
        "    images_so_far = 0\n",
        "    fig = plt.figure()\n",
        "\n",
        "    with torch.no_grad():\n",
        "        for i, (inputs, labels) in enumerate(dataloaders['val']):\n",
        "            inputs = inputs.to(device)\n",
        "            labels = labels.to(device)\n",
        "\n",
        "            outputs = model(inputs)\n",
        "            _, preds = torch.max(outputs, 1)\n",
        "\n",
        "            for j in range(inputs.size()[0]):\n",
        "                images_so_far += 1\n",
        "                ax = plt.subplot(num_images//2, 2, images_so_far)\n",
        "                ax.axis('off')\n",
        "                ax.set_title('predicted: {}'.format(class_names[preds[j]]))\n",
        "                imshow(inputs.cpu().data[j])\n",
        "\n",
        "                if images_so_far == num_images:\n",
        "                    model.train(mode=was_training)\n",
        "                    return\n",
        "        model.train(mode=was_training)"
      ],
      "execution_count": 0,
      "outputs": []
    },
    {
      "cell_type": "code",
      "metadata": {
        "id": "TeNECSDIcaDS",
        "colab_type": "code",
        "colab": {}
      },
      "source": [
        "visualize_model(model_conv)\n",
        "\n",
        "plt.ioff()\n",
        "plt.show()"
      ],
      "execution_count": 0,
      "outputs": []
    },
    {
      "cell_type": "code",
      "metadata": {
        "id": "6jWob1BoclY_",
        "colab_type": "code",
        "colab": {}
      },
      "source": [
        "\n",
        "for param in model_conv.parameters():\n",
        "    param.requires_grad = True\n",
        "\n",
        "model_conv = model_conv.to(device)\n",
        "\n",
        "# Observe that all parameters are being optimized\n",
        "optimizer_ft = optim.SGD(model_conv.parameters(), lr=0.001, momentum=0.9)"
      ],
      "execution_count": 0,
      "outputs": []
    },
    {
      "cell_type": "code",
      "metadata": {
        "id": "gxwO3ZftcstB",
        "colab_type": "code",
        "colab": {}
      },
      "source": [
        "try:\n",
        "    checkpoint = torch.load(CHECK_POINT_PATH)\n",
        "    print(\"checkpoint loaded\")\n",
        "except:\n",
        "    checkpoint = None\n",
        "    print(\"checkpoint not found\")\n",
        "model_conv, best_val_loss, best_val_acc = train_model(model_conv,\n",
        "                                                      criterion,\n",
        "                                                      optimizer_conv,\n",
        "                                                      exp_lr_scheduler,\n",
        "                                                      num_epochs = 2,\n",
        "                                                      checkpoint = checkpoint)\n",
        "torch.save({'model_state_dict': model_conv.state_dict(),\n",
        "            'optimizer_state_dict': optimizer_conv.state_dict(),\n",
        "            'best_val_loss': best_val_loss,\n",
        "            'best_val_accuracy': best_val_acc,\n",
        "            'scheduler_state_dict' : exp_lr_scheduler.state_dict(),\n",
        "            }, CHECK_POINT_PATH)"
      ],
      "execution_count": 0,
      "outputs": []
    },
    {
      "cell_type": "code",
      "metadata": {
        "id": "zj6VweZpcz_v",
        "colab_type": "code",
        "colab": {}
      },
      "source": [
        "\n",
        "visualize_model(model_conv)"
      ],
      "execution_count": 0,
      "outputs": []
    },
    {
      "cell_type": "code",
      "metadata": {
        "id": "85Y4Z6Q-c1AL",
        "colab_type": "code",
        "colab": {}
      },
      "source": [
        "def apply_test_transforms(inp):\n",
        "    out = transforms.functional.resize(inp, [224,224])\n",
        "    out = transforms.functional.to_tensor(out)\n",
        "    out = transforms.functional.normalize(out, [0.485, 0.456, 0.406], [0.229, 0.224, 0.225])\n",
        "    return out"
      ],
      "execution_count": 0,
      "outputs": []
    },
    {
      "cell_type": "code",
      "metadata": {
        "id": "POqHTWTYyQmF",
        "colab_type": "code",
        "colab": {}
      },
      "source": [
        "im = Image.open(f'{test_data_dir}/{test_data_files[0]}')\n",
        "plt.imshow(im)"
      ],
      "execution_count": 0,
      "outputs": []
    },
    {
      "cell_type": "code",
      "metadata": {
        "id": "lSwefNUby7HN",
        "colab_type": "code",
        "colab": {}
      },
      "source": [
        "\n",
        "im_as_tensor = apply_test_transforms(im)\n",
        "print(im_as_tensor.size())\n",
        "minibatch = torch.stack([im_as_tensor])\n",
        "print(minibatch.size())"
      ],
      "execution_count": 0,
      "outputs": []
    },
    {
      "cell_type": "code",
      "metadata": {
        "id": "jODy9JGU20u_",
        "colab_type": "code",
        "colab": {}
      },
      "source": [
        "model_conv(minibatch)\n"
      ],
      "execution_count": 0,
      "outputs": []
    },
    {
      "cell_type": "code",
      "metadata": {
        "id": "Q7nqJS1qdAZk",
        "colab_type": "code",
        "colab": {}
      },
      "source": [
        "\n",
        "softMax = nn.Softmax(dim = 1)\n",
        "preds = softMax(model_conv(minibatch))\n",
        "preds"
      ],
      "execution_count": 0,
      "outputs": []
    },
    {
      "cell_type": "code",
      "metadata": {
        "id": "wds5G_qtdEkL",
        "colab_type": "code",
        "colab": {}
      },
      "source": [
        "\n",
        "def predict_dog_prob_of_single_instance(model, tensor):\n",
        "    batch = torch.stack([tensor])\n",
        "    softMax = nn.Softmax(dim = 1)\n",
        "    preds = softMax(model(batch))\n",
        "    return preds[0,1].item()"
      ],
      "execution_count": 0,
      "outputs": []
    }
  ]
}
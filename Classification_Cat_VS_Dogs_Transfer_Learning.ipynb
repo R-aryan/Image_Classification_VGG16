{
  "nbformat": 4,
  "nbformat_minor": 0,
  "metadata": {
    "colab": {
      "name": "Classification_Cat_VS_Dogs_Transfer_Learning.ipynb",
      "provenance": [],
      "collapsed_sections": [],
      "toc_visible": true,
      "mount_file_id": "1ooqZ9YqxcnsMYRJeZki5UZjJCAAdig0a",
      "authorship_tag": "ABX9TyMoBaZUBGPKqDXlz61tB8gC",
      "include_colab_link": true
    },
    "kernelspec": {
      "name": "python3",
      "display_name": "Python 3"
    },
    "accelerator": "GPU"
  },
  "cells": [
    {
      "cell_type": "markdown",
      "metadata": {
        "id": "view-in-github",
        "colab_type": "text"
      },
      "source": [
        "<a href=\"https://colab.research.google.com/github/R-aryan/Image_Classification_VGG16/blob/master/Classification_Cat_VS_Dogs_Transfer_Learning.ipynb\" target=\"_parent\"><img src=\"https://colab.research.google.com/assets/colab-badge.svg\" alt=\"Open In Colab\"/></a>"
      ]
    },
    {
      "cell_type": "code",
      "metadata": {
        "id": "OJSbhX3T7Djl",
        "colab_type": "code",
        "colab": {}
      },
      "source": [
        "import keras,os\n",
        "from keras.models import Sequential\n",
        "from keras.layers import Dense, Conv2D, MaxPool2D , Flatten\n",
        "from keras.preprocessing.image import ImageDataGenerator\n",
        "from keras.applications.vgg16 import VGG16\n",
        "from keras.models import Model\n",
        "from keras import optimizers\n",
        "import numpy as np\n",
        "\n",
        "import shutil\n",
        "from os import listdir\n",
        "from os.path import splitext"
      ],
      "execution_count": 0,
      "outputs": []
    },
    {
      "cell_type": "code",
      "metadata": {
        "id": "IxPvaEYk7XYw",
        "colab_type": "code",
        "colab": {}
      },
      "source": [
        "train_directory= \"/content/drive/My Drive/classification_Dataset/cat_VS_dogs/train\"\n",
        "test_directory=\"/content/drive/My Drive/classification_Dataset/cat_VS_dogs/test1\""
      ],
      "execution_count": 0,
      "outputs": []
    },
    {
      "cell_type": "code",
      "metadata": {
        "id": "WYLaMgss7Z6a",
        "colab_type": "code",
        "colab": {}
      },
      "source": [
        "src= '/content/drive/My Drive/classification_Dataset/cat_VS_dogs/train'\n",
        "dest_d='/content/drive/My Drive/classification_Dataset/cat_VS_dogs/train/Dogs'\n",
        "dest_c='/content/drive/My Drive/classification_Dataset/cat_VS_dogs/train/Cats'\n",
        "validation_set='/content/drive/My Drive/classification_Dataset/cat_VS_dogs/validation_data'"
      ],
      "execution_count": 0,
      "outputs": []
    },
    {
      "cell_type": "code",
      "metadata": {
        "id": "-LgxmoBx7g7T",
        "colab_type": "code",
        "colab": {
          "base_uri": "https://localhost:8080/",
          "height": 35
        },
        "outputId": "e51b6be5-8df1-4ab3-a4d5-e2bdfead92e0"
      },
      "source": [
        "trdata = ImageDataGenerator()\n",
        "traindata = trdata.flow_from_directory(directory=src,target_size=(224,224),batch_size=32)"
      ],
      "execution_count": 5,
      "outputs": [
        {
          "output_type": "stream",
          "text": [
            "Found 20438 images belonging to 2 classes.\n"
          ],
          "name": "stdout"
        }
      ]
    },
    {
      "cell_type": "code",
      "metadata": {
        "id": "PVcYnrTT7wGC",
        "colab_type": "code",
        "colab": {
          "base_uri": "https://localhost:8080/",
          "height": 35
        },
        "outputId": "c2915bba-e21c-442d-dcf1-012c5810306e"
      },
      "source": [
        "tsdata = ImageDataGenerator()\n",
        "testdata = tsdata.flow_from_directory(directory=validation_set, target_size=(224,224),batch_size=32)"
      ],
      "execution_count": 6,
      "outputs": [
        {
          "output_type": "stream",
          "text": [
            "Found 98 images belonging to 2 classes.\n"
          ],
          "name": "stdout"
        }
      ]
    },
    {
      "cell_type": "code",
      "metadata": {
        "id": "6n7M4pRK8F28",
        "colab_type": "code",
        "colab": {}
      },
      "source": [
        ""
      ],
      "execution_count": 0,
      "outputs": []
    },
    {
      "cell_type": "markdown",
      "metadata": {
        "id": "cVBrM05s8Q3h",
        "colab_type": "text"
      },
      "source": [
        "Here using the ImageDataGenerator method in keras I will import all the images of cat and dog in the model. ImageDataGenerator will automatically label the data and map all the labels to its specific data."
      ]
    },
    {
      "cell_type": "code",
      "metadata": {
        "id": "vX_9mhs68S4i",
        "colab_type": "code",
        "colab": {
          "base_uri": "https://localhost:8080/",
          "height": 419
        },
        "outputId": "edce22df-f63a-4f59-b736-cddd3cf8c96c"
      },
      "source": [
        "\n",
        "vggmodel = VGG16(weights='imagenet', include_top=True)"
      ],
      "execution_count": 7,
      "outputs": [
        {
          "output_type": "stream",
          "text": [
            "WARNING:tensorflow:From /usr/local/lib/python3.6/dist-packages/keras/backend/tensorflow_backend.py:66: The name tf.get_default_graph is deprecated. Please use tf.compat.v1.get_default_graph instead.\n",
            "\n",
            "WARNING:tensorflow:From /usr/local/lib/python3.6/dist-packages/keras/backend/tensorflow_backend.py:541: The name tf.placeholder is deprecated. Please use tf.compat.v1.placeholder instead.\n",
            "\n",
            "WARNING:tensorflow:From /usr/local/lib/python3.6/dist-packages/keras/backend/tensorflow_backend.py:4432: The name tf.random_uniform is deprecated. Please use tf.random.uniform instead.\n",
            "\n",
            "WARNING:tensorflow:From /usr/local/lib/python3.6/dist-packages/keras/backend/tensorflow_backend.py:4267: The name tf.nn.max_pool is deprecated. Please use tf.nn.max_pool2d instead.\n",
            "\n",
            "Downloading data from https://github.com/fchollet/deep-learning-models/releases/download/v0.1/vgg16_weights_tf_dim_ordering_tf_kernels.h5\n",
            "553467904/553467096 [==============================] - 16s 0us/step\n",
            "WARNING:tensorflow:From /usr/local/lib/python3.6/dist-packages/keras/backend/tensorflow_backend.py:190: The name tf.get_default_session is deprecated. Please use tf.compat.v1.get_default_session instead.\n",
            "\n",
            "WARNING:tensorflow:From /usr/local/lib/python3.6/dist-packages/keras/backend/tensorflow_backend.py:197: The name tf.ConfigProto is deprecated. Please use tf.compat.v1.ConfigProto instead.\n",
            "\n",
            "WARNING:tensorflow:From /usr/local/lib/python3.6/dist-packages/keras/backend/tensorflow_backend.py:203: The name tf.Session is deprecated. Please use tf.compat.v1.Session instead.\n",
            "\n",
            "WARNING:tensorflow:From /usr/local/lib/python3.6/dist-packages/keras/backend/tensorflow_backend.py:207: The name tf.global_variables is deprecated. Please use tf.compat.v1.global_variables instead.\n",
            "\n",
            "WARNING:tensorflow:From /usr/local/lib/python3.6/dist-packages/keras/backend/tensorflow_backend.py:216: The name tf.is_variable_initialized is deprecated. Please use tf.compat.v1.is_variable_initialized instead.\n",
            "\n",
            "WARNING:tensorflow:From /usr/local/lib/python3.6/dist-packages/keras/backend/tensorflow_backend.py:223: The name tf.variables_initializer is deprecated. Please use tf.compat.v1.variables_initializer instead.\n",
            "\n"
          ],
          "name": "stdout"
        }
      ]
    },
    {
      "cell_type": "code",
      "metadata": {
        "id": "eCW3lSj08Zd1",
        "colab_type": "code",
        "colab": {}
      },
      "source": [
        ""
      ],
      "execution_count": 0,
      "outputs": []
    },
    {
      "cell_type": "markdown",
      "metadata": {
        "id": "WjaRVpj78hiT",
        "colab_type": "text"
      },
      "source": [
        "Here in this part I will import VGG16 from keras with pre-trained weights which was trained on imagenet. Here as you can see that include top parameter is set to true. This means that weights for our whole model will be downloaded. If this is set to false then the pre-trained weights will only be downloaded for convolution layers and no weights will be downloaded for dense layers."
      ]
    },
    {
      "cell_type": "code",
      "metadata": {
        "id": "KliyxLAu8jji",
        "colab_type": "code",
        "colab": {
          "base_uri": "https://localhost:8080/",
          "height": 953
        },
        "outputId": "ad2ef2c7-a229-433d-97ae-f57ad60513cb"
      },
      "source": [
        "vggmodel.summary()"
      ],
      "execution_count": 8,
      "outputs": [
        {
          "output_type": "stream",
          "text": [
            "Model: \"vgg16\"\n",
            "_________________________________________________________________\n",
            "Layer (type)                 Output Shape              Param #   \n",
            "=================================================================\n",
            "input_1 (InputLayer)         (None, 224, 224, 3)       0         \n",
            "_________________________________________________________________\n",
            "block1_conv1 (Conv2D)        (None, 224, 224, 64)      1792      \n",
            "_________________________________________________________________\n",
            "block1_conv2 (Conv2D)        (None, 224, 224, 64)      36928     \n",
            "_________________________________________________________________\n",
            "block1_pool (MaxPooling2D)   (None, 112, 112, 64)      0         \n",
            "_________________________________________________________________\n",
            "block2_conv1 (Conv2D)        (None, 112, 112, 128)     73856     \n",
            "_________________________________________________________________\n",
            "block2_conv2 (Conv2D)        (None, 112, 112, 128)     147584    \n",
            "_________________________________________________________________\n",
            "block2_pool (MaxPooling2D)   (None, 56, 56, 128)       0         \n",
            "_________________________________________________________________\n",
            "block3_conv1 (Conv2D)        (None, 56, 56, 256)       295168    \n",
            "_________________________________________________________________\n",
            "block3_conv2 (Conv2D)        (None, 56, 56, 256)       590080    \n",
            "_________________________________________________________________\n",
            "block3_conv3 (Conv2D)        (None, 56, 56, 256)       590080    \n",
            "_________________________________________________________________\n",
            "block3_pool (MaxPooling2D)   (None, 28, 28, 256)       0         \n",
            "_________________________________________________________________\n",
            "block4_conv1 (Conv2D)        (None, 28, 28, 512)       1180160   \n",
            "_________________________________________________________________\n",
            "block4_conv2 (Conv2D)        (None, 28, 28, 512)       2359808   \n",
            "_________________________________________________________________\n",
            "block4_conv3 (Conv2D)        (None, 28, 28, 512)       2359808   \n",
            "_________________________________________________________________\n",
            "block4_pool (MaxPooling2D)   (None, 14, 14, 512)       0         \n",
            "_________________________________________________________________\n",
            "block5_conv1 (Conv2D)        (None, 14, 14, 512)       2359808   \n",
            "_________________________________________________________________\n",
            "block5_conv2 (Conv2D)        (None, 14, 14, 512)       2359808   \n",
            "_________________________________________________________________\n",
            "block5_conv3 (Conv2D)        (None, 14, 14, 512)       2359808   \n",
            "_________________________________________________________________\n",
            "block5_pool (MaxPooling2D)   (None, 7, 7, 512)         0         \n",
            "_________________________________________________________________\n",
            "flatten (Flatten)            (None, 25088)             0         \n",
            "_________________________________________________________________\n",
            "fc1 (Dense)                  (None, 4096)              102764544 \n",
            "_________________________________________________________________\n",
            "fc2 (Dense)                  (None, 4096)              16781312  \n",
            "_________________________________________________________________\n",
            "predictions (Dense)          (None, 1000)              4097000   \n",
            "=================================================================\n",
            "Total params: 138,357,544\n",
            "Trainable params: 138,357,544\n",
            "Non-trainable params: 0\n",
            "_________________________________________________________________\n"
          ],
          "name": "stdout"
        }
      ]
    },
    {
      "cell_type": "markdown",
      "metadata": {
        "id": "x4Q9G2sp8_ev",
        "colab_type": "text"
      },
      "source": [
        "Now as I run vggmodel.summary() then the summary of the whole VGG model which was downloaded will be printed. Its output is attached below."
      ]
    },
    {
      "cell_type": "code",
      "metadata": {
        "id": "f3fMMlSH9ABZ",
        "colab_type": "code",
        "colab": {}
      },
      "source": [
        ""
      ],
      "execution_count": 0,
      "outputs": []
    },
    {
      "cell_type": "markdown",
      "metadata": {
        "id": "Gb3VbGK99GCG",
        "colab_type": "text"
      },
      "source": [
        "After the model has been downloaded then I need to use this model for my problem statement which is to detect cats and dogs. So here I will set that I will not be training the weights of the first 19 layers and use it as it is. Therefore i am setting the trainable parameter to False for first 19 layers."
      ]
    },
    {
      "cell_type": "code",
      "metadata": {
        "id": "WJryKtqK9Gy2",
        "colab_type": "code",
        "colab": {
          "base_uri": "https://localhost:8080/",
          "height": 416
        },
        "outputId": "183be58a-660c-4742-b763-66103c955a1b"
      },
      "source": [
        "vggmodel.layers\n"
      ],
      "execution_count": 9,
      "outputs": [
        {
          "output_type": "execute_result",
          "data": {
            "text/plain": [
              "[<keras.engine.input_layer.InputLayer at 0x7fb35fb36128>,\n",
              " <keras.layers.convolutional.Conv2D at 0x7fb35fb36198>,\n",
              " <keras.layers.convolutional.Conv2D at 0x7fb324f381d0>,\n",
              " <keras.layers.pooling.MaxPooling2D at 0x7fb3244b5518>,\n",
              " <keras.layers.convolutional.Conv2D at 0x7fb324f46978>,\n",
              " <keras.layers.convolutional.Conv2D at 0x7fb324f4eb38>,\n",
              " <keras.layers.pooling.MaxPooling2D at 0x7fb324f52b00>,\n",
              " <keras.layers.convolutional.Conv2D at 0x7fb324f5a2b0>,\n",
              " <keras.layers.convolutional.Conv2D at 0x7fb324f5ae80>,\n",
              " <keras.layers.convolutional.Conv2D at 0x7fb3244c00b8>,\n",
              " <keras.layers.pooling.MaxPooling2D at 0x7fb3244c6a20>,\n",
              " <keras.layers.convolutional.Conv2D at 0x7fb3244d21d0>,\n",
              " <keras.layers.convolutional.Conv2D at 0x7fb3244d2eb8>,\n",
              " <keras.layers.convolutional.Conv2D at 0x7fb3244d8e80>,\n",
              " <keras.layers.pooling.MaxPooling2D at 0x7fb32264c978>,\n",
              " <keras.layers.convolutional.Conv2D at 0x7fb322659160>,\n",
              " <keras.layers.convolutional.Conv2D at 0x7fb322659f60>,\n",
              " <keras.layers.convolutional.Conv2D at 0x7fb32261fdd8>,\n",
              " <keras.layers.pooling.MaxPooling2D at 0x7fb32262c940>,\n",
              " <keras.layers.core.Flatten at 0x7fb322631fd0>,\n",
              " <keras.layers.core.Dense at 0x7fb322636630>,\n",
              " <keras.layers.core.Dense at 0x7fb32263f908>,\n",
              " <keras.layers.core.Dense at 0x7fb3226a6fd0>]"
            ]
          },
          "metadata": {
            "tags": []
          },
          "execution_count": 9
        }
      ]
    },
    {
      "cell_type": "code",
      "metadata": {
        "id": "ZyWGXbfd9Rfi",
        "colab_type": "code",
        "colab": {
          "base_uri": "https://localhost:8080/",
          "height": 347
        },
        "outputId": "2f39764b-9b71-4b58-b1c6-52c7e4bca8b6"
      },
      "source": [
        "for layers in (vggmodel.layers)[:19]:\n",
        "    print(layers)\n",
        "    layers.trainable = False"
      ],
      "execution_count": 10,
      "outputs": [
        {
          "output_type": "stream",
          "text": [
            "<keras.engine.input_layer.InputLayer object at 0x7fb35fb36128>\n",
            "<keras.layers.convolutional.Conv2D object at 0x7fb35fb36198>\n",
            "<keras.layers.convolutional.Conv2D object at 0x7fb324f381d0>\n",
            "<keras.layers.pooling.MaxPooling2D object at 0x7fb3244b5518>\n",
            "<keras.layers.convolutional.Conv2D object at 0x7fb324f46978>\n",
            "<keras.layers.convolutional.Conv2D object at 0x7fb324f4eb38>\n",
            "<keras.layers.pooling.MaxPooling2D object at 0x7fb324f52b00>\n",
            "<keras.layers.convolutional.Conv2D object at 0x7fb324f5a2b0>\n",
            "<keras.layers.convolutional.Conv2D object at 0x7fb324f5ae80>\n",
            "<keras.layers.convolutional.Conv2D object at 0x7fb3244c00b8>\n",
            "<keras.layers.pooling.MaxPooling2D object at 0x7fb3244c6a20>\n",
            "<keras.layers.convolutional.Conv2D object at 0x7fb3244d21d0>\n",
            "<keras.layers.convolutional.Conv2D object at 0x7fb3244d2eb8>\n",
            "<keras.layers.convolutional.Conv2D object at 0x7fb3244d8e80>\n",
            "<keras.layers.pooling.MaxPooling2D object at 0x7fb32264c978>\n",
            "<keras.layers.convolutional.Conv2D object at 0x7fb322659160>\n",
            "<keras.layers.convolutional.Conv2D object at 0x7fb322659f60>\n",
            "<keras.layers.convolutional.Conv2D object at 0x7fb32261fdd8>\n",
            "<keras.layers.pooling.MaxPooling2D object at 0x7fb32262c940>\n"
          ],
          "name": "stdout"
        }
      ]
    },
    {
      "cell_type": "markdown",
      "metadata": {
        "id": "oIVQi7tULMTz",
        "colab_type": "text"
      },
      "source": [
        "Since my problem is to detect cats and dogs and it has two classes so the last dense layer of my model should be a 2 unit softmax dense layer. Here I am taking the second last layer of the model which is dense layer with 4096 units and adding a dense softmax layer of 2 units in the end. In this way I will remove the last layer of the VGG16 model which is made to predict 1000 classes."
      ]
    },
    {
      "cell_type": "code",
      "metadata": {
        "id": "sSldZfmx9eUk",
        "colab_type": "code",
        "colab": {
          "base_uri": "https://localhost:8080/",
          "height": 72
        },
        "outputId": "e9124a3c-7d19-4cb7-aa3c-e16affab0fbe"
      },
      "source": [
        "\n",
        "X= vggmodel.layers[-2].output\n",
        "predictions = Dense(2, activation=\"softmax\")(X)\n",
        "model_final = Model(input = vggmodel.input, output = predictions)"
      ],
      "execution_count": 18,
      "outputs": [
        {
          "output_type": "stream",
          "text": [
            "/usr/local/lib/python3.6/dist-packages/ipykernel_launcher.py:4: UserWarning: Update your `Model` call to the Keras 2 API: `Model(inputs=Tensor(\"in..., outputs=Tensor(\"de...)`\n",
            "  after removing the cwd from sys.path.\n"
          ],
          "name": "stderr"
        }
      ]
    },
    {
      "cell_type": "markdown",
      "metadata": {
        "id": "vMWkrf0BLR-R",
        "colab_type": "text"
      },
      "source": [
        "Now I will compile my new model. I will set the learning rate of SGD (Stochastic Gradient Descent) optimiser using lr parameter and since i have a 2 unit dense layer in the end so i will be using categorical_crossentropy as loss since the output of the model is categorical."
      ]
    },
    {
      "cell_type": "code",
      "metadata": {
        "id": "rRgMtEjnIsZa",
        "colab_type": "code",
        "colab": {
          "base_uri": "https://localhost:8080/",
          "height": 107
        },
        "outputId": "d58e1a3e-7acc-41b4-d4a2-054dda6079db"
      },
      "source": [
        "model_final.compile(loss = \"categorical_crossentropy\", optimizer = optimizers.SGD(lr=0.0001, momentum=0.9), metrics=[\"accuracy\"])"
      ],
      "execution_count": 21,
      "outputs": [
        {
          "output_type": "stream",
          "text": [
            "WARNING:tensorflow:From /usr/local/lib/python3.6/dist-packages/keras/optimizers.py:793: The name tf.train.Optimizer is deprecated. Please use tf.compat.v1.train.Optimizer instead.\n",
            "\n",
            "WARNING:tensorflow:From /usr/local/lib/python3.6/dist-packages/keras/backend/tensorflow_backend.py:3576: The name tf.log is deprecated. Please use tf.math.log instead.\n",
            "\n"
          ],
          "name": "stdout"
        }
      ]
    },
    {
      "cell_type": "code",
      "metadata": {
        "id": "V_hVfLpZK1rF",
        "colab_type": "code",
        "colab": {
          "base_uri": "https://localhost:8080/",
          "height": 953
        },
        "outputId": "68ff81d1-43fc-4d86-8e0b-5be1221d0a4e"
      },
      "source": [
        "model_final.summary()"
      ],
      "execution_count": 22,
      "outputs": [
        {
          "output_type": "stream",
          "text": [
            "Model: \"model_1\"\n",
            "_________________________________________________________________\n",
            "Layer (type)                 Output Shape              Param #   \n",
            "=================================================================\n",
            "input_1 (InputLayer)         (None, 224, 224, 3)       0         \n",
            "_________________________________________________________________\n",
            "block1_conv1 (Conv2D)        (None, 224, 224, 64)      1792      \n",
            "_________________________________________________________________\n",
            "block1_conv2 (Conv2D)        (None, 224, 224, 64)      36928     \n",
            "_________________________________________________________________\n",
            "block1_pool (MaxPooling2D)   (None, 112, 112, 64)      0         \n",
            "_________________________________________________________________\n",
            "block2_conv1 (Conv2D)        (None, 112, 112, 128)     73856     \n",
            "_________________________________________________________________\n",
            "block2_conv2 (Conv2D)        (None, 112, 112, 128)     147584    \n",
            "_________________________________________________________________\n",
            "block2_pool (MaxPooling2D)   (None, 56, 56, 128)       0         \n",
            "_________________________________________________________________\n",
            "block3_conv1 (Conv2D)        (None, 56, 56, 256)       295168    \n",
            "_________________________________________________________________\n",
            "block3_conv2 (Conv2D)        (None, 56, 56, 256)       590080    \n",
            "_________________________________________________________________\n",
            "block3_conv3 (Conv2D)        (None, 56, 56, 256)       590080    \n",
            "_________________________________________________________________\n",
            "block3_pool (MaxPooling2D)   (None, 28, 28, 256)       0         \n",
            "_________________________________________________________________\n",
            "block4_conv1 (Conv2D)        (None, 28, 28, 512)       1180160   \n",
            "_________________________________________________________________\n",
            "block4_conv2 (Conv2D)        (None, 28, 28, 512)       2359808   \n",
            "_________________________________________________________________\n",
            "block4_conv3 (Conv2D)        (None, 28, 28, 512)       2359808   \n",
            "_________________________________________________________________\n",
            "block4_pool (MaxPooling2D)   (None, 14, 14, 512)       0         \n",
            "_________________________________________________________________\n",
            "block5_conv1 (Conv2D)        (None, 14, 14, 512)       2359808   \n",
            "_________________________________________________________________\n",
            "block5_conv2 (Conv2D)        (None, 14, 14, 512)       2359808   \n",
            "_________________________________________________________________\n",
            "block5_conv3 (Conv2D)        (None, 14, 14, 512)       2359808   \n",
            "_________________________________________________________________\n",
            "block5_pool (MaxPooling2D)   (None, 7, 7, 512)         0         \n",
            "_________________________________________________________________\n",
            "flatten (Flatten)            (None, 25088)             0         \n",
            "_________________________________________________________________\n",
            "fc1 (Dense)                  (None, 4096)              102764544 \n",
            "_________________________________________________________________\n",
            "fc2 (Dense)                  (None, 4096)              16781312  \n",
            "_________________________________________________________________\n",
            "dense_7 (Dense)              (None, 2)                 8194      \n",
            "=================================================================\n",
            "Total params: 134,268,738\n",
            "Trainable params: 119,554,050\n",
            "Non-trainable params: 14,714,688\n",
            "_________________________________________________________________\n"
          ],
          "name": "stdout"
        }
      ]
    },
    {
      "cell_type": "code",
      "metadata": {
        "id": "RGMMxuo6LVv8",
        "colab_type": "code",
        "colab": {
          "base_uri": "https://localhost:8080/",
          "height": 1000
        },
        "outputId": "c0a913fc-83c8-45f5-8e7f-f9efc728635d"
      },
      "source": [
        "from keras.callbacks import ModelCheckpoint, EarlyStopping\n",
        "\n",
        "checkpoint = ModelCheckpoint(\"/content/drive/My Drive/classification_Dataset/vgg16_tl.h5\", monitor='val_acc', verbose=1, save_best_only=True, save_weights_only=False, mode='auto', period=1)\n",
        "\n",
        "early = EarlyStopping(monitor='val_acc', min_delta=0, patience=40, verbose=1, mode='auto')\n",
        "\n",
        "model_final.fit_generator(generator= traindata, steps_per_epoch= 2, epochs= 100, validation_data= testdata, validation_steps=1, callbacks=[checkpoint,early])\n",
        "\n",
        "model_final.save_weights(\"/content/drive/My Drive/classification_Dataset/vgg16_tl.h5\")"
      ],
      "execution_count": 24,
      "outputs": [
        {
          "output_type": "stream",
          "text": [
            "Epoch 1/100\n",
            "2/2 [==============================] - 33s 17s/step - loss: 0.0410 - acc: 0.9844 - val_loss: 0.1768 - val_acc: 0.9688\n",
            "\n",
            "Epoch 00001: val_acc improved from -inf to 0.96875, saving model to /content/drive/My Drive/classification_Dataset/vgg16_tl.h5\n",
            "Epoch 2/100\n",
            "2/2 [==============================] - 33s 17s/step - loss: 0.0613 - acc: 0.9688 - val_loss: 0.0639 - val_acc: 0.9375\n",
            "\n",
            "Epoch 00002: val_acc did not improve from 0.96875\n",
            "Epoch 3/100\n",
            "2/2 [==============================] - 16s 8s/step - loss: 0.0630 - acc: 0.9688 - val_loss: 0.0261 - val_acc: 1.0000\n",
            "\n",
            "Epoch 00003: val_acc improved from 0.96875 to 1.00000, saving model to /content/drive/My Drive/classification_Dataset/vgg16_tl.h5\n",
            "Epoch 4/100\n",
            "2/2 [==============================] - 34s 17s/step - loss: 0.1175 - acc: 0.9688 - val_loss: 3.4574e-04 - val_acc: 1.0000\n",
            "\n",
            "Epoch 00004: val_acc did not improve from 1.00000\n",
            "Epoch 5/100\n",
            "2/2 [==============================] - 18s 9s/step - loss: 0.0174 - acc: 1.0000 - val_loss: 0.1632 - val_acc: 0.9688\n",
            "\n",
            "Epoch 00005: val_acc did not improve from 1.00000\n",
            "Epoch 6/100\n",
            "2/2 [==============================] - 17s 9s/step - loss: 0.0370 - acc: 0.9688 - val_loss: 0.0383 - val_acc: 1.0000\n",
            "\n",
            "Epoch 00006: val_acc did not improve from 1.00000\n",
            "Epoch 7/100\n",
            "2/2 [==============================] - 33s 17s/step - loss: 0.1946 - acc: 0.9688 - val_loss: 0.0509 - val_acc: 0.9688\n",
            "\n",
            "Epoch 00007: val_acc did not improve from 1.00000\n",
            "Epoch 8/100\n",
            "2/2 [==============================] - 37s 19s/step - loss: 0.1751 - acc: 0.9219 - val_loss: 5.1495e-04 - val_acc: 1.0000\n",
            "\n",
            "Epoch 00008: val_acc did not improve from 1.00000\n",
            "Epoch 9/100\n",
            "2/2 [==============================] - 40s 20s/step - loss: 0.1401 - acc: 0.9375 - val_loss: 0.2020 - val_acc: 0.9688\n",
            "\n",
            "Epoch 00009: val_acc did not improve from 1.00000\n",
            "Epoch 10/100\n",
            "2/2 [==============================] - 36s 18s/step - loss: 0.0923 - acc: 0.9531 - val_loss: 0.0186 - val_acc: 1.0000\n",
            "\n",
            "Epoch 00010: val_acc did not improve from 1.00000\n",
            "Epoch 11/100\n",
            "2/2 [==============================] - 36s 18s/step - loss: 0.1257 - acc: 0.9219 - val_loss: 0.0120 - val_acc: 1.0000\n",
            "\n",
            "Epoch 00011: val_acc did not improve from 1.00000\n",
            "Epoch 12/100\n",
            "2/2 [==============================] - 33s 16s/step - loss: 0.1794 - acc: 0.9688 - val_loss: 3.3763e-04 - val_acc: 1.0000\n",
            "\n",
            "Epoch 00012: val_acc did not improve from 1.00000\n",
            "Epoch 13/100\n",
            "2/2 [==============================] - 36s 18s/step - loss: 0.1376 - acc: 0.9688 - val_loss: 0.0325 - val_acc: 0.9688\n",
            "\n",
            "Epoch 00013: val_acc did not improve from 1.00000\n",
            "Epoch 14/100\n",
            "2/2 [==============================] - 18s 9s/step - loss: 0.0391 - acc: 0.9844 - val_loss: 0.0073 - val_acc: 1.0000\n",
            "\n",
            "Epoch 00014: val_acc did not improve from 1.00000\n",
            "Epoch 15/100\n",
            "2/2 [==============================] - 39s 20s/step - loss: 0.0782 - acc: 0.9688 - val_loss: 0.2249 - val_acc: 0.9688\n",
            "\n",
            "Epoch 00015: val_acc did not improve from 1.00000\n",
            "Epoch 16/100\n",
            "2/2 [==============================] - 37s 18s/step - loss: 0.0741 - acc: 0.9531 - val_loss: 0.0313 - val_acc: 1.0000\n",
            "\n",
            "Epoch 00016: val_acc did not improve from 1.00000\n",
            "Epoch 17/100\n",
            "2/2 [==============================] - 34s 17s/step - loss: 0.0833 - acc: 0.9375 - val_loss: 0.0394 - val_acc: 0.9688\n",
            "\n",
            "Epoch 00017: val_acc did not improve from 1.00000\n",
            "Epoch 18/100\n",
            "2/2 [==============================] - 20s 10s/step - loss: 0.0023 - acc: 1.0000 - val_loss: 0.0065 - val_acc: 1.0000\n",
            "\n",
            "Epoch 00018: val_acc did not improve from 1.00000\n",
            "Epoch 19/100\n",
            "2/2 [==============================] - 34s 17s/step - loss: 0.0213 - acc: 1.0000 - val_loss: 0.1982 - val_acc: 0.9688\n",
            "\n",
            "Epoch 00019: val_acc did not improve from 1.00000\n",
            "Epoch 20/100\n",
            "2/2 [==============================] - 36s 18s/step - loss: 0.0353 - acc: 0.9844 - val_loss: 2.0862e-07 - val_acc: 1.0000\n",
            "\n",
            "Epoch 00020: val_acc did not improve from 1.00000\n",
            "Epoch 21/100\n",
            "2/2 [==============================] - 34s 17s/step - loss: 0.0312 - acc: 0.9844 - val_loss: 0.2128 - val_acc: 0.9688\n",
            "\n",
            "Epoch 00021: val_acc did not improve from 1.00000\n",
            "Epoch 22/100\n",
            "2/2 [==============================] - 17s 9s/step - loss: 0.0367 - acc: 0.9844 - val_loss: 0.0090 - val_acc: 1.0000\n",
            "\n",
            "Epoch 00022: val_acc did not improve from 1.00000\n",
            "Epoch 23/100\n",
            "2/2 [==============================] - 35s 17s/step - loss: 0.1912 - acc: 0.9531 - val_loss: 0.0102 - val_acc: 1.0000\n",
            "\n",
            "Epoch 00023: val_acc did not improve from 1.00000\n",
            "Epoch 24/100\n",
            "2/2 [==============================] - 36s 18s/step - loss: 0.1545 - acc: 0.9531 - val_loss: 7.0010e-05 - val_acc: 1.0000\n",
            "\n",
            "Epoch 00024: val_acc did not improve from 1.00000\n",
            "Epoch 25/100\n",
            "2/2 [==============================] - 35s 17s/step - loss: 0.0566 - acc: 0.9688 - val_loss: 0.1862 - val_acc: 0.9688\n",
            "\n",
            "Epoch 00025: val_acc did not improve from 1.00000\n",
            "Epoch 26/100\n",
            "2/2 [==============================] - 38s 19s/step - loss: 0.0442 - acc: 0.9844 - val_loss: 0.0300 - val_acc: 1.0000\n",
            "\n",
            "Epoch 00026: val_acc did not improve from 1.00000\n",
            "Epoch 27/100\n",
            "2/2 [==============================] - 36s 18s/step - loss: 0.0669 - acc: 0.9844 - val_loss: 0.0146 - val_acc: 1.0000\n",
            "\n",
            "Epoch 00027: val_acc did not improve from 1.00000\n",
            "Epoch 28/100\n",
            "2/2 [==============================] - 37s 18s/step - loss: 0.0870 - acc: 0.9688 - val_loss: 7.1526e-07 - val_acc: 1.0000\n",
            "\n",
            "Epoch 00028: val_acc did not improve from 1.00000\n",
            "Epoch 29/100\n",
            "2/2 [==============================] - 36s 18s/step - loss: 0.0189 - acc: 1.0000 - val_loss: 0.0169 - val_acc: 1.0000\n",
            "\n",
            "Epoch 00029: val_acc did not improve from 1.00000\n",
            "Epoch 30/100\n",
            "2/2 [==============================] - 18s 9s/step - loss: 0.0881 - acc: 0.9531 - val_loss: 0.0467 - val_acc: 0.9688\n",
            "\n",
            "Epoch 00030: val_acc did not improve from 1.00000\n",
            "Epoch 31/100\n",
            "2/2 [==============================] - 33s 17s/step - loss: 0.1250 - acc: 0.9531 - val_loss: 0.2150 - val_acc: 0.9688\n",
            "\n",
            "Epoch 00031: val_acc did not improve from 1.00000\n",
            "Epoch 32/100\n",
            "2/2 [==============================] - 33s 17s/step - loss: 0.0451 - acc: 0.9844 - val_loss: 0.0012 - val_acc: 1.0000\n",
            "\n",
            "Epoch 00032: val_acc did not improve from 1.00000\n",
            "Epoch 33/100\n",
            "2/2 [==============================] - 35s 17s/step - loss: 0.0774 - acc: 0.9688 - val_loss: 0.2604 - val_acc: 0.9375\n",
            "\n",
            "Epoch 00033: val_acc did not improve from 1.00000\n",
            "Epoch 34/100\n",
            "2/2 [==============================] - 18s 9s/step - loss: 0.0099 - acc: 1.0000 - val_loss: 4.7287e-04 - val_acc: 1.0000\n",
            "\n",
            "Epoch 00034: val_acc did not improve from 1.00000\n",
            "Epoch 35/100\n",
            "2/2 [==============================] - 16s 8s/step - loss: 0.0589 - acc: 0.9688 - val_loss: 0.0199 - val_acc: 1.0000\n",
            "\n",
            "Epoch 00035: val_acc did not improve from 1.00000\n",
            "Epoch 36/100\n",
            "2/2 [==============================] - 34s 17s/step - loss: 0.0390 - acc: 0.9688 - val_loss: 9.8381e-04 - val_acc: 1.0000\n",
            "\n",
            "Epoch 00036: val_acc did not improve from 1.00000\n",
            "Epoch 37/100\n",
            "2/2 [==============================] - 36s 18s/step - loss: 0.0920 - acc: 0.9531 - val_loss: 0.0473 - val_acc: 0.9688\n",
            "\n",
            "Epoch 00037: val_acc did not improve from 1.00000\n",
            "Epoch 38/100\n",
            "2/2 [==============================] - 36s 18s/step - loss: 0.1967 - acc: 0.9531 - val_loss: 0.0027 - val_acc: 1.0000\n",
            "\n",
            "Epoch 00038: val_acc did not improve from 1.00000\n",
            "Epoch 39/100\n",
            "2/2 [==============================] - 18s 9s/step - loss: 0.0478 - acc: 0.9688 - val_loss: 0.1658 - val_acc: 0.9688\n",
            "\n",
            "Epoch 00039: val_acc did not improve from 1.00000\n",
            "Epoch 40/100\n",
            "2/2 [==============================] - 34s 17s/step - loss: 0.1162 - acc: 0.9531 - val_loss: 0.0020 - val_acc: 1.0000\n",
            "\n",
            "Epoch 00040: val_acc did not improve from 1.00000\n",
            "Epoch 41/100\n",
            "2/2 [==============================] - 17s 9s/step - loss: 0.0205 - acc: 1.0000 - val_loss: 0.1426 - val_acc: 0.9688\n",
            "\n",
            "Epoch 00041: val_acc did not improve from 1.00000\n",
            "Epoch 42/100\n",
            "2/2 [==============================] - 19s 9s/step - loss: 0.0108 - acc: 1.0000 - val_loss: 0.0129 - val_acc: 1.0000\n",
            "\n",
            "Epoch 00042: val_acc did not improve from 1.00000\n",
            "Epoch 43/100\n",
            "2/2 [==============================] - 34s 17s/step - loss: 0.0352 - acc: 0.9844 - val_loss: 0.0553 - val_acc: 0.9688\n",
            "\n",
            "Epoch 00043: val_acc did not improve from 1.00000\n",
            "Epoch 00043: early stopping\n"
          ],
          "name": "stdout"
        }
      ]
    },
    {
      "cell_type": "code",
      "metadata": {
        "id": "qg2__4b1L348",
        "colab_type": "code",
        "colab": {}
      },
      "source": [
        ""
      ],
      "execution_count": 0,
      "outputs": []
    }
  ]
}
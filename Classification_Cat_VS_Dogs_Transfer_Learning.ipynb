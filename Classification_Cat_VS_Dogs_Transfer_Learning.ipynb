{
  "nbformat": 4,
  "nbformat_minor": 0,
  "metadata": {
    "colab": {
      "name": "Classification_Cat_VS_Dogs_Transfer_Learning.ipynb",
      "provenance": [],
      "collapsed_sections": [],
      "toc_visible": true,
      "mount_file_id": "1ooqZ9YqxcnsMYRJeZki5UZjJCAAdig0a",
      "authorship_tag": "ABX9TyNr8dqWCqVQAF4VsSuFC0V9",
      "include_colab_link": true
    },
    "kernelspec": {
      "name": "python3",
      "display_name": "Python 3"
    },
    "accelerator": "GPU"
  },
  "cells": [
    {
      "cell_type": "markdown",
      "metadata": {
        "id": "view-in-github",
        "colab_type": "text"
      },
      "source": [
        "<a href=\"https://colab.research.google.com/github/R-aryan/Image_Classification_VGG16/blob/master/Classification_Cat_VS_Dogs_Transfer_Learning.ipynb\" target=\"_parent\"><img src=\"https://colab.research.google.com/assets/colab-badge.svg\" alt=\"Open In Colab\"/></a>"
      ]
    },
    {
      "cell_type": "code",
      "metadata": {
        "id": "OJSbhX3T7Djl",
        "colab_type": "code",
        "colab": {}
      },
      "source": [
        "import keras,os\n",
        "from keras.models import Sequential\n",
        "from keras.layers import Dense, Conv2D, MaxPool2D , Flatten\n",
        "from keras.preprocessing.image import ImageDataGenerator\n",
        "from keras.applications.vgg16 import VGG16\n",
        "import numpy as np\n",
        "\n",
        "import shutil\n",
        "from os import listdir\n",
        "from os.path import splitext"
      ],
      "execution_count": 0,
      "outputs": []
    },
    {
      "cell_type": "code",
      "metadata": {
        "id": "IxPvaEYk7XYw",
        "colab_type": "code",
        "colab": {}
      },
      "source": [
        "train_directory= \"/content/drive/My Drive/classification_Dataset/cat_VS_dogs/train\"\n",
        "test_directory=\"/content/drive/My Drive/classification_Dataset/cat_VS_dogs/test1\""
      ],
      "execution_count": 0,
      "outputs": []
    },
    {
      "cell_type": "code",
      "metadata": {
        "id": "WYLaMgss7Z6a",
        "colab_type": "code",
        "colab": {}
      },
      "source": [
        "src= '/content/drive/My Drive/classification_Dataset/cat_VS_dogs/train'\n",
        "dest_d='/content/drive/My Drive/classification_Dataset/cat_VS_dogs/train/Dogs'\n",
        "dest_c='/content/drive/My Drive/classification_Dataset/cat_VS_dogs/train/Cats'\n",
        "validation_set='/content/drive/My Drive/classification_Dataset/cat_VS_dogs/validation_data'"
      ],
      "execution_count": 0,
      "outputs": []
    },
    {
      "cell_type": "code",
      "metadata": {
        "id": "-LgxmoBx7g7T",
        "colab_type": "code",
        "colab": {
          "base_uri": "https://localhost:8080/",
          "height": 35
        },
        "outputId": "e51b6be5-8df1-4ab3-a4d5-e2bdfead92e0"
      },
      "source": [
        "trdata = ImageDataGenerator()\n",
        "traindata = trdata.flow_from_directory(directory=src,target_size=(224,224),batch_size=32)"
      ],
      "execution_count": 5,
      "outputs": [
        {
          "output_type": "stream",
          "text": [
            "Found 20438 images belonging to 2 classes.\n"
          ],
          "name": "stdout"
        }
      ]
    },
    {
      "cell_type": "code",
      "metadata": {
        "id": "PVcYnrTT7wGC",
        "colab_type": "code",
        "colab": {
          "base_uri": "https://localhost:8080/",
          "height": 35
        },
        "outputId": "c2915bba-e21c-442d-dcf1-012c5810306e"
      },
      "source": [
        "tsdata = ImageDataGenerator()\n",
        "testdata = tsdata.flow_from_directory(directory=validation_set, target_size=(224,224),batch_size=32)"
      ],
      "execution_count": 6,
      "outputs": [
        {
          "output_type": "stream",
          "text": [
            "Found 98 images belonging to 2 classes.\n"
          ],
          "name": "stdout"
        }
      ]
    },
    {
      "cell_type": "code",
      "metadata": {
        "id": "6n7M4pRK8F28",
        "colab_type": "code",
        "colab": {}
      },
      "source": [
        ""
      ],
      "execution_count": 0,
      "outputs": []
    },
    {
      "cell_type": "markdown",
      "metadata": {
        "id": "cVBrM05s8Q3h",
        "colab_type": "text"
      },
      "source": [
        "Here using the ImageDataGenerator method in keras I will import all the images of cat and dog in the model. ImageDataGenerator will automatically label the data and map all the labels to its specific data."
      ]
    },
    {
      "cell_type": "code",
      "metadata": {
        "id": "vX_9mhs68S4i",
        "colab_type": "code",
        "colab": {
          "base_uri": "https://localhost:8080/",
          "height": 419
        },
        "outputId": "edce22df-f63a-4f59-b736-cddd3cf8c96c"
      },
      "source": [
        "\n",
        "vggmodel = VGG16(weights='imagenet', include_top=True)"
      ],
      "execution_count": 7,
      "outputs": [
        {
          "output_type": "stream",
          "text": [
            "WARNING:tensorflow:From /usr/local/lib/python3.6/dist-packages/keras/backend/tensorflow_backend.py:66: The name tf.get_default_graph is deprecated. Please use tf.compat.v1.get_default_graph instead.\n",
            "\n",
            "WARNING:tensorflow:From /usr/local/lib/python3.6/dist-packages/keras/backend/tensorflow_backend.py:541: The name tf.placeholder is deprecated. Please use tf.compat.v1.placeholder instead.\n",
            "\n",
            "WARNING:tensorflow:From /usr/local/lib/python3.6/dist-packages/keras/backend/tensorflow_backend.py:4432: The name tf.random_uniform is deprecated. Please use tf.random.uniform instead.\n",
            "\n",
            "WARNING:tensorflow:From /usr/local/lib/python3.6/dist-packages/keras/backend/tensorflow_backend.py:4267: The name tf.nn.max_pool is deprecated. Please use tf.nn.max_pool2d instead.\n",
            "\n",
            "Downloading data from https://github.com/fchollet/deep-learning-models/releases/download/v0.1/vgg16_weights_tf_dim_ordering_tf_kernels.h5\n",
            "553467904/553467096 [==============================] - 16s 0us/step\n",
            "WARNING:tensorflow:From /usr/local/lib/python3.6/dist-packages/keras/backend/tensorflow_backend.py:190: The name tf.get_default_session is deprecated. Please use tf.compat.v1.get_default_session instead.\n",
            "\n",
            "WARNING:tensorflow:From /usr/local/lib/python3.6/dist-packages/keras/backend/tensorflow_backend.py:197: The name tf.ConfigProto is deprecated. Please use tf.compat.v1.ConfigProto instead.\n",
            "\n",
            "WARNING:tensorflow:From /usr/local/lib/python3.6/dist-packages/keras/backend/tensorflow_backend.py:203: The name tf.Session is deprecated. Please use tf.compat.v1.Session instead.\n",
            "\n",
            "WARNING:tensorflow:From /usr/local/lib/python3.6/dist-packages/keras/backend/tensorflow_backend.py:207: The name tf.global_variables is deprecated. Please use tf.compat.v1.global_variables instead.\n",
            "\n",
            "WARNING:tensorflow:From /usr/local/lib/python3.6/dist-packages/keras/backend/tensorflow_backend.py:216: The name tf.is_variable_initialized is deprecated. Please use tf.compat.v1.is_variable_initialized instead.\n",
            "\n",
            "WARNING:tensorflow:From /usr/local/lib/python3.6/dist-packages/keras/backend/tensorflow_backend.py:223: The name tf.variables_initializer is deprecated. Please use tf.compat.v1.variables_initializer instead.\n",
            "\n"
          ],
          "name": "stdout"
        }
      ]
    },
    {
      "cell_type": "code",
      "metadata": {
        "id": "eCW3lSj08Zd1",
        "colab_type": "code",
        "colab": {}
      },
      "source": [
        ""
      ],
      "execution_count": 0,
      "outputs": []
    },
    {
      "cell_type": "markdown",
      "metadata": {
        "id": "WjaRVpj78hiT",
        "colab_type": "text"
      },
      "source": [
        "Here in this part I will import VGG16 from keras with pre-trained weights which was trained on imagenet. Here as you can see that include top parameter is set to true. This means that weights for our whole model will be downloaded. If this is set to false then the pre-trained weights will only be downloaded for convolution layers and no weights will be downloaded for dense layers."
      ]
    },
    {
      "cell_type": "code",
      "metadata": {
        "id": "KliyxLAu8jji",
        "colab_type": "code",
        "colab": {
          "base_uri": "https://localhost:8080/",
          "height": 953
        },
        "outputId": "ad2ef2c7-a229-433d-97ae-f57ad60513cb"
      },
      "source": [
        "vggmodel.summary()"
      ],
      "execution_count": 8,
      "outputs": [
        {
          "output_type": "stream",
          "text": [
            "Model: \"vgg16\"\n",
            "_________________________________________________________________\n",
            "Layer (type)                 Output Shape              Param #   \n",
            "=================================================================\n",
            "input_1 (InputLayer)         (None, 224, 224, 3)       0         \n",
            "_________________________________________________________________\n",
            "block1_conv1 (Conv2D)        (None, 224, 224, 64)      1792      \n",
            "_________________________________________________________________\n",
            "block1_conv2 (Conv2D)        (None, 224, 224, 64)      36928     \n",
            "_________________________________________________________________\n",
            "block1_pool (MaxPooling2D)   (None, 112, 112, 64)      0         \n",
            "_________________________________________________________________\n",
            "block2_conv1 (Conv2D)        (None, 112, 112, 128)     73856     \n",
            "_________________________________________________________________\n",
            "block2_conv2 (Conv2D)        (None, 112, 112, 128)     147584    \n",
            "_________________________________________________________________\n",
            "block2_pool (MaxPooling2D)   (None, 56, 56, 128)       0         \n",
            "_________________________________________________________________\n",
            "block3_conv1 (Conv2D)        (None, 56, 56, 256)       295168    \n",
            "_________________________________________________________________\n",
            "block3_conv2 (Conv2D)        (None, 56, 56, 256)       590080    \n",
            "_________________________________________________________________\n",
            "block3_conv3 (Conv2D)        (None, 56, 56, 256)       590080    \n",
            "_________________________________________________________________\n",
            "block3_pool (MaxPooling2D)   (None, 28, 28, 256)       0         \n",
            "_________________________________________________________________\n",
            "block4_conv1 (Conv2D)        (None, 28, 28, 512)       1180160   \n",
            "_________________________________________________________________\n",
            "block4_conv2 (Conv2D)        (None, 28, 28, 512)       2359808   \n",
            "_________________________________________________________________\n",
            "block4_conv3 (Conv2D)        (None, 28, 28, 512)       2359808   \n",
            "_________________________________________________________________\n",
            "block4_pool (MaxPooling2D)   (None, 14, 14, 512)       0         \n",
            "_________________________________________________________________\n",
            "block5_conv1 (Conv2D)        (None, 14, 14, 512)       2359808   \n",
            "_________________________________________________________________\n",
            "block5_conv2 (Conv2D)        (None, 14, 14, 512)       2359808   \n",
            "_________________________________________________________________\n",
            "block5_conv3 (Conv2D)        (None, 14, 14, 512)       2359808   \n",
            "_________________________________________________________________\n",
            "block5_pool (MaxPooling2D)   (None, 7, 7, 512)         0         \n",
            "_________________________________________________________________\n",
            "flatten (Flatten)            (None, 25088)             0         \n",
            "_________________________________________________________________\n",
            "fc1 (Dense)                  (None, 4096)              102764544 \n",
            "_________________________________________________________________\n",
            "fc2 (Dense)                  (None, 4096)              16781312  \n",
            "_________________________________________________________________\n",
            "predictions (Dense)          (None, 1000)              4097000   \n",
            "=================================================================\n",
            "Total params: 138,357,544\n",
            "Trainable params: 138,357,544\n",
            "Non-trainable params: 0\n",
            "_________________________________________________________________\n"
          ],
          "name": "stdout"
        }
      ]
    },
    {
      "cell_type": "markdown",
      "metadata": {
        "id": "x4Q9G2sp8_ev",
        "colab_type": "text"
      },
      "source": [
        "Now as I run vggmodel.summary() then the summary of the whole VGG model which was downloaded will be printed. Its output is attached below."
      ]
    },
    {
      "cell_type": "code",
      "metadata": {
        "id": "f3fMMlSH9ABZ",
        "colab_type": "code",
        "colab": {}
      },
      "source": [
        ""
      ],
      "execution_count": 0,
      "outputs": []
    },
    {
      "cell_type": "markdown",
      "metadata": {
        "id": "Gb3VbGK99GCG",
        "colab_type": "text"
      },
      "source": [
        "After the model has been downloaded then I need to use this model for my problem statement which is to detect cats and dogs. So here I will set that I will not be training the weights of the first 19 layers and use it as it is. Therefore i am setting the trainable parameter to False for first 19 layers."
      ]
    },
    {
      "cell_type": "code",
      "metadata": {
        "id": "WJryKtqK9Gy2",
        "colab_type": "code",
        "colab": {
          "base_uri": "https://localhost:8080/",
          "height": 416
        },
        "outputId": "183be58a-660c-4742-b763-66103c955a1b"
      },
      "source": [
        "vggmodel.layers\n"
      ],
      "execution_count": 9,
      "outputs": [
        {
          "output_type": "execute_result",
          "data": {
            "text/plain": [
              "[<keras.engine.input_layer.InputLayer at 0x7fb35fb36128>,\n",
              " <keras.layers.convolutional.Conv2D at 0x7fb35fb36198>,\n",
              " <keras.layers.convolutional.Conv2D at 0x7fb324f381d0>,\n",
              " <keras.layers.pooling.MaxPooling2D at 0x7fb3244b5518>,\n",
              " <keras.layers.convolutional.Conv2D at 0x7fb324f46978>,\n",
              " <keras.layers.convolutional.Conv2D at 0x7fb324f4eb38>,\n",
              " <keras.layers.pooling.MaxPooling2D at 0x7fb324f52b00>,\n",
              " <keras.layers.convolutional.Conv2D at 0x7fb324f5a2b0>,\n",
              " <keras.layers.convolutional.Conv2D at 0x7fb324f5ae80>,\n",
              " <keras.layers.convolutional.Conv2D at 0x7fb3244c00b8>,\n",
              " <keras.layers.pooling.MaxPooling2D at 0x7fb3244c6a20>,\n",
              " <keras.layers.convolutional.Conv2D at 0x7fb3244d21d0>,\n",
              " <keras.layers.convolutional.Conv2D at 0x7fb3244d2eb8>,\n",
              " <keras.layers.convolutional.Conv2D at 0x7fb3244d8e80>,\n",
              " <keras.layers.pooling.MaxPooling2D at 0x7fb32264c978>,\n",
              " <keras.layers.convolutional.Conv2D at 0x7fb322659160>,\n",
              " <keras.layers.convolutional.Conv2D at 0x7fb322659f60>,\n",
              " <keras.layers.convolutional.Conv2D at 0x7fb32261fdd8>,\n",
              " <keras.layers.pooling.MaxPooling2D at 0x7fb32262c940>,\n",
              " <keras.layers.core.Flatten at 0x7fb322631fd0>,\n",
              " <keras.layers.core.Dense at 0x7fb322636630>,\n",
              " <keras.layers.core.Dense at 0x7fb32263f908>,\n",
              " <keras.layers.core.Dense at 0x7fb3226a6fd0>]"
            ]
          },
          "metadata": {
            "tags": []
          },
          "execution_count": 9
        }
      ]
    },
    {
      "cell_type": "code",
      "metadata": {
        "id": "ZyWGXbfd9Rfi",
        "colab_type": "code",
        "colab": {
          "base_uri": "https://localhost:8080/",
          "height": 347
        },
        "outputId": "2f39764b-9b71-4b58-b1c6-52c7e4bca8b6"
      },
      "source": [
        "for layers in (vggmodel.layers)[:19]:\n",
        "    print(layers)\n",
        "    layers.trainable = False"
      ],
      "execution_count": 10,
      "outputs": [
        {
          "output_type": "stream",
          "text": [
            "<keras.engine.input_layer.InputLayer object at 0x7fb35fb36128>\n",
            "<keras.layers.convolutional.Conv2D object at 0x7fb35fb36198>\n",
            "<keras.layers.convolutional.Conv2D object at 0x7fb324f381d0>\n",
            "<keras.layers.pooling.MaxPooling2D object at 0x7fb3244b5518>\n",
            "<keras.layers.convolutional.Conv2D object at 0x7fb324f46978>\n",
            "<keras.layers.convolutional.Conv2D object at 0x7fb324f4eb38>\n",
            "<keras.layers.pooling.MaxPooling2D object at 0x7fb324f52b00>\n",
            "<keras.layers.convolutional.Conv2D object at 0x7fb324f5a2b0>\n",
            "<keras.layers.convolutional.Conv2D object at 0x7fb324f5ae80>\n",
            "<keras.layers.convolutional.Conv2D object at 0x7fb3244c00b8>\n",
            "<keras.layers.pooling.MaxPooling2D object at 0x7fb3244c6a20>\n",
            "<keras.layers.convolutional.Conv2D object at 0x7fb3244d21d0>\n",
            "<keras.layers.convolutional.Conv2D object at 0x7fb3244d2eb8>\n",
            "<keras.layers.convolutional.Conv2D object at 0x7fb3244d8e80>\n",
            "<keras.layers.pooling.MaxPooling2D object at 0x7fb32264c978>\n",
            "<keras.layers.convolutional.Conv2D object at 0x7fb322659160>\n",
            "<keras.layers.convolutional.Conv2D object at 0x7fb322659f60>\n",
            "<keras.layers.convolutional.Conv2D object at 0x7fb32261fdd8>\n",
            "<keras.layers.pooling.MaxPooling2D object at 0x7fb32262c940>\n"
          ],
          "name": "stdout"
        }
      ]
    },
    {
      "cell_type": "code",
      "metadata": {
        "id": "sSldZfmx9eUk",
        "colab_type": "code",
        "colab": {
          "base_uri": "https://localhost:8080/",
          "height": 72
        },
        "outputId": "e9124a3c-7d19-4cb7-aa3c-e16affab0fbe"
      },
      "source": [
        "from keras.models import Model\n",
        "X= vggmodel.layers[-2].output\n",
        "predictions = Dense(2, activation=\"softmax\")(X)\n",
        "model_final = Model(input = vggmodel.input, output = predictions)"
      ],
      "execution_count": 18,
      "outputs": [
        {
          "output_type": "stream",
          "text": [
            "/usr/local/lib/python3.6/dist-packages/ipykernel_launcher.py:4: UserWarning: Update your `Model` call to the Keras 2 API: `Model(inputs=Tensor(\"in..., outputs=Tensor(\"de...)`\n",
            "  after removing the cwd from sys.path.\n"
          ],
          "name": "stderr"
        }
      ]
    },
    {
      "cell_type": "code",
      "metadata": {
        "id": "rRgMtEjnIsZa",
        "colab_type": "code",
        "colab": {}
      },
      "source": [
        ""
      ],
      "execution_count": 0,
      "outputs": []
    }
  ]
}